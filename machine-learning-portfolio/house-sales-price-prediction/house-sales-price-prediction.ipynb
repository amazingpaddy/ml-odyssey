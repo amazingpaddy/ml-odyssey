{
 "cells": [
  {
   "cell_type": "markdown",
   "id": "4a42ca8c",
   "metadata": {},
   "source": [
    "To start this project, I am importing the necessary libraries. Pandas will be used for data manipulation and analysis, while matplotlib will help with creating visualizations."
   ]
  },
  {
   "cell_type": "code",
   "execution_count": 2,
   "id": "initial_id",
   "metadata": {
    "ExecuteTime": {
     "end_time": "2025-08-12T19:47:02.135387Z",
     "start_time": "2025-08-12T19:47:02.131655Z"
    },
    "collapsed": true
   },
   "outputs": [],
   "source": [
    "import pandas as pd\n",
    "import matplotlib.pyplot as plt"
   ]
  },
  {
   "cell_type": "markdown",
   "id": "e54801c9",
   "metadata": {},
   "source": [
    "Now, I am loading the training dataset from the CSV file. This will give me the data to work with for building the house price prediction model."
   ]
  },
  {
   "cell_type": "code",
   "execution_count": 3,
   "id": "ab9ff79c40681711",
   "metadata": {
    "ExecuteTime": {
     "end_time": "2025-08-12T19:47:02.222493Z",
     "start_time": "2025-08-12T19:47:02.159255Z"
    }
   },
   "outputs": [
    {
     "data": {
      "text/html": [
       "<div>\n",
       "<style scoped>\n",
       "    .dataframe tbody tr th:only-of-type {\n",
       "        vertical-align: middle;\n",
       "    }\n",
       "\n",
       "    .dataframe tbody tr th {\n",
       "        vertical-align: top;\n",
       "    }\n",
       "\n",
       "    .dataframe thead th {\n",
       "        text-align: right;\n",
       "    }\n",
       "</style>\n",
       "<table border=\"1\" class=\"dataframe\">\n",
       "  <thead>\n",
       "    <tr style=\"text-align: right;\">\n",
       "      <th></th>\n",
       "      <th>Id</th>\n",
       "      <th>MSSubClass</th>\n",
       "      <th>MSZoning</th>\n",
       "      <th>LotFrontage</th>\n",
       "      <th>LotArea</th>\n",
       "      <th>Street</th>\n",
       "      <th>Alley</th>\n",
       "      <th>LotShape</th>\n",
       "      <th>LandContour</th>\n",
       "      <th>Utilities</th>\n",
       "      <th>...</th>\n",
       "      <th>PoolArea</th>\n",
       "      <th>PoolQC</th>\n",
       "      <th>Fence</th>\n",
       "      <th>MiscFeature</th>\n",
       "      <th>MiscVal</th>\n",
       "      <th>MoSold</th>\n",
       "      <th>YrSold</th>\n",
       "      <th>SaleType</th>\n",
       "      <th>SaleCondition</th>\n",
       "      <th>SalePrice</th>\n",
       "    </tr>\n",
       "  </thead>\n",
       "  <tbody>\n",
       "    <tr>\n",
       "      <th>0</th>\n",
       "      <td>1</td>\n",
       "      <td>60</td>\n",
       "      <td>RL</td>\n",
       "      <td>65.0</td>\n",
       "      <td>8450</td>\n",
       "      <td>Pave</td>\n",
       "      <td>NaN</td>\n",
       "      <td>Reg</td>\n",
       "      <td>Lvl</td>\n",
       "      <td>AllPub</td>\n",
       "      <td>...</td>\n",
       "      <td>0</td>\n",
       "      <td>NaN</td>\n",
       "      <td>NaN</td>\n",
       "      <td>NaN</td>\n",
       "      <td>0</td>\n",
       "      <td>2</td>\n",
       "      <td>2008</td>\n",
       "      <td>WD</td>\n",
       "      <td>Normal</td>\n",
       "      <td>208500</td>\n",
       "    </tr>\n",
       "    <tr>\n",
       "      <th>1</th>\n",
       "      <td>2</td>\n",
       "      <td>20</td>\n",
       "      <td>RL</td>\n",
       "      <td>80.0</td>\n",
       "      <td>9600</td>\n",
       "      <td>Pave</td>\n",
       "      <td>NaN</td>\n",
       "      <td>Reg</td>\n",
       "      <td>Lvl</td>\n",
       "      <td>AllPub</td>\n",
       "      <td>...</td>\n",
       "      <td>0</td>\n",
       "      <td>NaN</td>\n",
       "      <td>NaN</td>\n",
       "      <td>NaN</td>\n",
       "      <td>0</td>\n",
       "      <td>5</td>\n",
       "      <td>2007</td>\n",
       "      <td>WD</td>\n",
       "      <td>Normal</td>\n",
       "      <td>181500</td>\n",
       "    </tr>\n",
       "    <tr>\n",
       "      <th>2</th>\n",
       "      <td>3</td>\n",
       "      <td>60</td>\n",
       "      <td>RL</td>\n",
       "      <td>68.0</td>\n",
       "      <td>11250</td>\n",
       "      <td>Pave</td>\n",
       "      <td>NaN</td>\n",
       "      <td>IR1</td>\n",
       "      <td>Lvl</td>\n",
       "      <td>AllPub</td>\n",
       "      <td>...</td>\n",
       "      <td>0</td>\n",
       "      <td>NaN</td>\n",
       "      <td>NaN</td>\n",
       "      <td>NaN</td>\n",
       "      <td>0</td>\n",
       "      <td>9</td>\n",
       "      <td>2008</td>\n",
       "      <td>WD</td>\n",
       "      <td>Normal</td>\n",
       "      <td>223500</td>\n",
       "    </tr>\n",
       "    <tr>\n",
       "      <th>3</th>\n",
       "      <td>4</td>\n",
       "      <td>70</td>\n",
       "      <td>RL</td>\n",
       "      <td>60.0</td>\n",
       "      <td>9550</td>\n",
       "      <td>Pave</td>\n",
       "      <td>NaN</td>\n",
       "      <td>IR1</td>\n",
       "      <td>Lvl</td>\n",
       "      <td>AllPub</td>\n",
       "      <td>...</td>\n",
       "      <td>0</td>\n",
       "      <td>NaN</td>\n",
       "      <td>NaN</td>\n",
       "      <td>NaN</td>\n",
       "      <td>0</td>\n",
       "      <td>2</td>\n",
       "      <td>2006</td>\n",
       "      <td>WD</td>\n",
       "      <td>Abnorml</td>\n",
       "      <td>140000</td>\n",
       "    </tr>\n",
       "    <tr>\n",
       "      <th>4</th>\n",
       "      <td>5</td>\n",
       "      <td>60</td>\n",
       "      <td>RL</td>\n",
       "      <td>84.0</td>\n",
       "      <td>14260</td>\n",
       "      <td>Pave</td>\n",
       "      <td>NaN</td>\n",
       "      <td>IR1</td>\n",
       "      <td>Lvl</td>\n",
       "      <td>AllPub</td>\n",
       "      <td>...</td>\n",
       "      <td>0</td>\n",
       "      <td>NaN</td>\n",
       "      <td>NaN</td>\n",
       "      <td>NaN</td>\n",
       "      <td>0</td>\n",
       "      <td>12</td>\n",
       "      <td>2008</td>\n",
       "      <td>WD</td>\n",
       "      <td>Normal</td>\n",
       "      <td>250000</td>\n",
       "    </tr>\n",
       "    <tr>\n",
       "      <th>...</th>\n",
       "      <td>...</td>\n",
       "      <td>...</td>\n",
       "      <td>...</td>\n",
       "      <td>...</td>\n",
       "      <td>...</td>\n",
       "      <td>...</td>\n",
       "      <td>...</td>\n",
       "      <td>...</td>\n",
       "      <td>...</td>\n",
       "      <td>...</td>\n",
       "      <td>...</td>\n",
       "      <td>...</td>\n",
       "      <td>...</td>\n",
       "      <td>...</td>\n",
       "      <td>...</td>\n",
       "      <td>...</td>\n",
       "      <td>...</td>\n",
       "      <td>...</td>\n",
       "      <td>...</td>\n",
       "      <td>...</td>\n",
       "      <td>...</td>\n",
       "    </tr>\n",
       "    <tr>\n",
       "      <th>1455</th>\n",
       "      <td>1456</td>\n",
       "      <td>60</td>\n",
       "      <td>RL</td>\n",
       "      <td>62.0</td>\n",
       "      <td>7917</td>\n",
       "      <td>Pave</td>\n",
       "      <td>NaN</td>\n",
       "      <td>Reg</td>\n",
       "      <td>Lvl</td>\n",
       "      <td>AllPub</td>\n",
       "      <td>...</td>\n",
       "      <td>0</td>\n",
       "      <td>NaN</td>\n",
       "      <td>NaN</td>\n",
       "      <td>NaN</td>\n",
       "      <td>0</td>\n",
       "      <td>8</td>\n",
       "      <td>2007</td>\n",
       "      <td>WD</td>\n",
       "      <td>Normal</td>\n",
       "      <td>175000</td>\n",
       "    </tr>\n",
       "    <tr>\n",
       "      <th>1456</th>\n",
       "      <td>1457</td>\n",
       "      <td>20</td>\n",
       "      <td>RL</td>\n",
       "      <td>85.0</td>\n",
       "      <td>13175</td>\n",
       "      <td>Pave</td>\n",
       "      <td>NaN</td>\n",
       "      <td>Reg</td>\n",
       "      <td>Lvl</td>\n",
       "      <td>AllPub</td>\n",
       "      <td>...</td>\n",
       "      <td>0</td>\n",
       "      <td>NaN</td>\n",
       "      <td>MnPrv</td>\n",
       "      <td>NaN</td>\n",
       "      <td>0</td>\n",
       "      <td>2</td>\n",
       "      <td>2010</td>\n",
       "      <td>WD</td>\n",
       "      <td>Normal</td>\n",
       "      <td>210000</td>\n",
       "    </tr>\n",
       "    <tr>\n",
       "      <th>1457</th>\n",
       "      <td>1458</td>\n",
       "      <td>70</td>\n",
       "      <td>RL</td>\n",
       "      <td>66.0</td>\n",
       "      <td>9042</td>\n",
       "      <td>Pave</td>\n",
       "      <td>NaN</td>\n",
       "      <td>Reg</td>\n",
       "      <td>Lvl</td>\n",
       "      <td>AllPub</td>\n",
       "      <td>...</td>\n",
       "      <td>0</td>\n",
       "      <td>NaN</td>\n",
       "      <td>GdPrv</td>\n",
       "      <td>Shed</td>\n",
       "      <td>2500</td>\n",
       "      <td>5</td>\n",
       "      <td>2010</td>\n",
       "      <td>WD</td>\n",
       "      <td>Normal</td>\n",
       "      <td>266500</td>\n",
       "    </tr>\n",
       "    <tr>\n",
       "      <th>1458</th>\n",
       "      <td>1459</td>\n",
       "      <td>20</td>\n",
       "      <td>RL</td>\n",
       "      <td>68.0</td>\n",
       "      <td>9717</td>\n",
       "      <td>Pave</td>\n",
       "      <td>NaN</td>\n",
       "      <td>Reg</td>\n",
       "      <td>Lvl</td>\n",
       "      <td>AllPub</td>\n",
       "      <td>...</td>\n",
       "      <td>0</td>\n",
       "      <td>NaN</td>\n",
       "      <td>NaN</td>\n",
       "      <td>NaN</td>\n",
       "      <td>0</td>\n",
       "      <td>4</td>\n",
       "      <td>2010</td>\n",
       "      <td>WD</td>\n",
       "      <td>Normal</td>\n",
       "      <td>142125</td>\n",
       "    </tr>\n",
       "    <tr>\n",
       "      <th>1459</th>\n",
       "      <td>1460</td>\n",
       "      <td>20</td>\n",
       "      <td>RL</td>\n",
       "      <td>75.0</td>\n",
       "      <td>9937</td>\n",
       "      <td>Pave</td>\n",
       "      <td>NaN</td>\n",
       "      <td>Reg</td>\n",
       "      <td>Lvl</td>\n",
       "      <td>AllPub</td>\n",
       "      <td>...</td>\n",
       "      <td>0</td>\n",
       "      <td>NaN</td>\n",
       "      <td>NaN</td>\n",
       "      <td>NaN</td>\n",
       "      <td>0</td>\n",
       "      <td>6</td>\n",
       "      <td>2008</td>\n",
       "      <td>WD</td>\n",
       "      <td>Normal</td>\n",
       "      <td>147500</td>\n",
       "    </tr>\n",
       "  </tbody>\n",
       "</table>\n",
       "<p>1460 rows × 81 columns</p>\n",
       "</div>"
      ],
      "text/plain": [
       "        Id  MSSubClass MSZoning  LotFrontage  LotArea Street Alley LotShape  \\\n",
       "0        1          60       RL         65.0     8450   Pave   NaN      Reg   \n",
       "1        2          20       RL         80.0     9600   Pave   NaN      Reg   \n",
       "2        3          60       RL         68.0    11250   Pave   NaN      IR1   \n",
       "3        4          70       RL         60.0     9550   Pave   NaN      IR1   \n",
       "4        5          60       RL         84.0    14260   Pave   NaN      IR1   \n",
       "...    ...         ...      ...          ...      ...    ...   ...      ...   \n",
       "1455  1456          60       RL         62.0     7917   Pave   NaN      Reg   \n",
       "1456  1457          20       RL         85.0    13175   Pave   NaN      Reg   \n",
       "1457  1458          70       RL         66.0     9042   Pave   NaN      Reg   \n",
       "1458  1459          20       RL         68.0     9717   Pave   NaN      Reg   \n",
       "1459  1460          20       RL         75.0     9937   Pave   NaN      Reg   \n",
       "\n",
       "     LandContour Utilities  ... PoolArea PoolQC  Fence MiscFeature MiscVal  \\\n",
       "0            Lvl    AllPub  ...        0    NaN    NaN         NaN       0   \n",
       "1            Lvl    AllPub  ...        0    NaN    NaN         NaN       0   \n",
       "2            Lvl    AllPub  ...        0    NaN    NaN         NaN       0   \n",
       "3            Lvl    AllPub  ...        0    NaN    NaN         NaN       0   \n",
       "4            Lvl    AllPub  ...        0    NaN    NaN         NaN       0   \n",
       "...          ...       ...  ...      ...    ...    ...         ...     ...   \n",
       "1455         Lvl    AllPub  ...        0    NaN    NaN         NaN       0   \n",
       "1456         Lvl    AllPub  ...        0    NaN  MnPrv         NaN       0   \n",
       "1457         Lvl    AllPub  ...        0    NaN  GdPrv        Shed    2500   \n",
       "1458         Lvl    AllPub  ...        0    NaN    NaN         NaN       0   \n",
       "1459         Lvl    AllPub  ...        0    NaN    NaN         NaN       0   \n",
       "\n",
       "     MoSold YrSold  SaleType  SaleCondition  SalePrice  \n",
       "0         2   2008        WD         Normal     208500  \n",
       "1         5   2007        WD         Normal     181500  \n",
       "2         9   2008        WD         Normal     223500  \n",
       "3         2   2006        WD        Abnorml     140000  \n",
       "4        12   2008        WD         Normal     250000  \n",
       "...     ...    ...       ...            ...        ...  \n",
       "1455      8   2007        WD         Normal     175000  \n",
       "1456      2   2010        WD         Normal     210000  \n",
       "1457      5   2010        WD         Normal     266500  \n",
       "1458      4   2010        WD         Normal     142125  \n",
       "1459      6   2008        WD         Normal     147500  \n",
       "\n",
       "[1460 rows x 81 columns]"
      ]
     },
     "execution_count": 3,
     "metadata": {},
     "output_type": "execute_result"
    }
   ],
   "source": [
    "train_df = pd.read_csv(\"train.csv\")\n",
    "train_df"
   ]
  },
  {
   "cell_type": "markdown",
   "id": "27fa634f",
   "metadata": {},
   "source": [
    "To get an overview of the dataset, I am checking the basic information about the DataFrame, including the number of entries, column types, and any missing values."
   ]
  },
  {
   "cell_type": "code",
   "execution_count": 4,
   "id": "35a990b2a9d0b31a",
   "metadata": {
    "ExecuteTime": {
     "end_time": "2025-08-12T19:47:02.279178Z",
     "start_time": "2025-08-12T19:47:02.242189Z"
    }
   },
   "outputs": [
    {
     "name": "stdout",
     "output_type": "stream",
     "text": [
      "<class 'pandas.core.frame.DataFrame'>\n",
      "RangeIndex: 1460 entries, 0 to 1459\n",
      "Data columns (total 81 columns):\n",
      " #   Column         Non-Null Count  Dtype  \n",
      "---  ------         --------------  -----  \n",
      " 0   Id             1460 non-null   int64  \n",
      " 1   MSSubClass     1460 non-null   int64  \n",
      " 2   MSZoning       1460 non-null   object \n",
      " 3   LotFrontage    1201 non-null   float64\n",
      " 4   LotArea        1460 non-null   int64  \n",
      " 5   Street         1460 non-null   object \n",
      " 6   Alley          91 non-null     object \n",
      " 7   LotShape       1460 non-null   object \n",
      " 8   LandContour    1460 non-null   object \n",
      " 9   Utilities      1460 non-null   object \n",
      " 10  LotConfig      1460 non-null   object \n",
      " 11  LandSlope      1460 non-null   object \n",
      " 12  Neighborhood   1460 non-null   object \n",
      " 13  Condition1     1460 non-null   object \n",
      " 14  Condition2     1460 non-null   object \n",
      " 15  BldgType       1460 non-null   object \n",
      " 16  HouseStyle     1460 non-null   object \n",
      " 17  OverallQual    1460 non-null   int64  \n",
      " 18  OverallCond    1460 non-null   int64  \n",
      " 19  YearBuilt      1460 non-null   int64  \n",
      " 20  YearRemodAdd   1460 non-null   int64  \n",
      " 21  RoofStyle      1460 non-null   object \n",
      " 22  RoofMatl       1460 non-null   object \n",
      " 23  Exterior1st    1460 non-null   object \n",
      " 24  Exterior2nd    1460 non-null   object \n",
      " 25  MasVnrType     588 non-null    object \n",
      " 26  MasVnrArea     1452 non-null   float64\n",
      " 27  ExterQual      1460 non-null   object \n",
      " 28  ExterCond      1460 non-null   object \n",
      " 29  Foundation     1460 non-null   object \n",
      " 30  BsmtQual       1423 non-null   object \n",
      " 31  BsmtCond       1423 non-null   object \n",
      " 32  BsmtExposure   1422 non-null   object \n",
      " 33  BsmtFinType1   1423 non-null   object \n",
      " 34  BsmtFinSF1     1460 non-null   int64  \n",
      " 35  BsmtFinType2   1422 non-null   object \n",
      " 36  BsmtFinSF2     1460 non-null   int64  \n",
      " 37  BsmtUnfSF      1460 non-null   int64  \n",
      " 38  TotalBsmtSF    1460 non-null   int64  \n",
      " 39  Heating        1460 non-null   object \n",
      " 40  HeatingQC      1460 non-null   object \n",
      " 41  CentralAir     1460 non-null   object \n",
      " 42  Electrical     1459 non-null   object \n",
      " 43  1stFlrSF       1460 non-null   int64  \n",
      " 44  2ndFlrSF       1460 non-null   int64  \n",
      " 45  LowQualFinSF   1460 non-null   int64  \n",
      " 46  GrLivArea      1460 non-null   int64  \n",
      " 47  BsmtFullBath   1460 non-null   int64  \n",
      " 48  BsmtHalfBath   1460 non-null   int64  \n",
      " 49  FullBath       1460 non-null   int64  \n",
      " 50  HalfBath       1460 non-null   int64  \n",
      " 51  BedroomAbvGr   1460 non-null   int64  \n",
      " 52  KitchenAbvGr   1460 non-null   int64  \n",
      " 53  KitchenQual    1460 non-null   object \n",
      " 54  TotRmsAbvGrd   1460 non-null   int64  \n",
      " 55  Functional     1460 non-null   object \n",
      " 56  Fireplaces     1460 non-null   int64  \n",
      " 57  FireplaceQu    770 non-null    object \n",
      " 58  GarageType     1379 non-null   object \n",
      " 59  GarageYrBlt    1379 non-null   float64\n",
      " 60  GarageFinish   1379 non-null   object \n",
      " 61  GarageCars     1460 non-null   int64  \n",
      " 62  GarageArea     1460 non-null   int64  \n",
      " 63  GarageQual     1379 non-null   object \n",
      " 64  GarageCond     1379 non-null   object \n",
      " 65  PavedDrive     1460 non-null   object \n",
      " 66  WoodDeckSF     1460 non-null   int64  \n",
      " 67  OpenPorchSF    1460 non-null   int64  \n",
      " 68  EnclosedPorch  1460 non-null   int64  \n",
      " 69  3SsnPorch      1460 non-null   int64  \n",
      " 70  ScreenPorch    1460 non-null   int64  \n",
      " 71  PoolArea       1460 non-null   int64  \n",
      " 72  PoolQC         7 non-null      object \n",
      " 73  Fence          281 non-null    object \n",
      " 74  MiscFeature    54 non-null     object \n",
      " 75  MiscVal        1460 non-null   int64  \n",
      " 76  MoSold         1460 non-null   int64  \n",
      " 77  YrSold         1460 non-null   int64  \n",
      " 78  SaleType       1460 non-null   object \n",
      " 79  SaleCondition  1460 non-null   object \n",
      " 80  SalePrice      1460 non-null   int64  \n",
      "dtypes: float64(3), int64(35), object(43)\n",
      "memory usage: 924.0+ KB\n"
     ]
    }
   ],
   "source": [
    "train_df.info()"
   ]
  },
  {
   "cell_type": "markdown",
   "id": "1886e43a",
   "metadata": {},
   "source": [
    "Next, I am generating summary statistics for the numerical columns to understand the distribution, central tendency, and spread of the data."
   ]
  },
  {
   "cell_type": "code",
   "execution_count": 5,
   "id": "cf24c5eaa27de73f",
   "metadata": {
    "ExecuteTime": {
     "end_time": "2025-08-12T19:47:02.421316Z",
     "start_time": "2025-08-12T19:47:02.368428Z"
    }
   },
   "outputs": [
    {
     "name": "stdout",
     "output_type": "stream",
     "text": [
      "                Id   MSSubClass  LotFrontage        LotArea  OverallQual  \\\n",
      "count  1460.000000  1460.000000  1201.000000    1460.000000  1460.000000   \n",
      "mean    730.500000    56.897260    70.049958   10516.828082     6.099315   \n",
      "std     421.610009    42.300571    24.284752    9981.264932     1.382997   \n",
      "min       1.000000    20.000000    21.000000    1300.000000     1.000000   \n",
      "25%     365.750000    20.000000    59.000000    7553.500000     5.000000   \n",
      "50%     730.500000    50.000000    69.000000    9478.500000     6.000000   \n",
      "75%    1095.250000    70.000000    80.000000   11601.500000     7.000000   \n",
      "max    1460.000000   190.000000   313.000000  215245.000000    10.000000   \n",
      "\n",
      "       OverallCond    YearBuilt  YearRemodAdd   MasVnrArea   BsmtFinSF1  ...  \\\n",
      "count  1460.000000  1460.000000   1460.000000  1452.000000  1460.000000  ...   \n",
      "mean      5.575342  1971.267808   1984.865753   103.685262   443.639726  ...   \n",
      "std       1.112799    30.202904     20.645407   181.066207   456.098091  ...   \n",
      "min       1.000000  1872.000000   1950.000000     0.000000     0.000000  ...   \n",
      "25%       5.000000  1954.000000   1967.000000     0.000000     0.000000  ...   \n",
      "50%       5.000000  1973.000000   1994.000000     0.000000   383.500000  ...   \n",
      "75%       6.000000  2000.000000   2004.000000   166.000000   712.250000  ...   \n",
      "max       9.000000  2010.000000   2010.000000  1600.000000  5644.000000  ...   \n",
      "\n",
      "        WoodDeckSF  OpenPorchSF  EnclosedPorch    3SsnPorch  ScreenPorch  \\\n",
      "count  1460.000000  1460.000000    1460.000000  1460.000000  1460.000000   \n",
      "mean     94.244521    46.660274      21.954110     3.409589    15.060959   \n",
      "std     125.338794    66.256028      61.119149    29.317331    55.757415   \n",
      "min       0.000000     0.000000       0.000000     0.000000     0.000000   \n",
      "25%       0.000000     0.000000       0.000000     0.000000     0.000000   \n",
      "50%       0.000000    25.000000       0.000000     0.000000     0.000000   \n",
      "75%     168.000000    68.000000       0.000000     0.000000     0.000000   \n",
      "max     857.000000   547.000000     552.000000   508.000000   480.000000   \n",
      "\n",
      "          PoolArea       MiscVal       MoSold       YrSold      SalePrice  \n",
      "count  1460.000000   1460.000000  1460.000000  1460.000000    1460.000000  \n",
      "mean      2.758904     43.489041     6.321918  2007.815753  180921.195890  \n",
      "std      40.177307    496.123024     2.703626     1.328095   79442.502883  \n",
      "min       0.000000      0.000000     1.000000  2006.000000   34900.000000  \n",
      "25%       0.000000      0.000000     5.000000  2007.000000  129975.000000  \n",
      "50%       0.000000      0.000000     6.000000  2008.000000  163000.000000  \n",
      "75%       0.000000      0.000000     8.000000  2009.000000  214000.000000  \n",
      "max     738.000000  15500.000000    12.000000  2010.000000  755000.000000  \n",
      "\n",
      "[8 rows x 38 columns]\n"
     ]
    }
   ],
   "source": [
    "print(train_df.describe())"
   ]
  },
  {
   "cell_type": "markdown",
   "id": "541c3b65",
   "metadata": {},
   "source": [
    "I am investigating the values in the MasVnrArea column for rows where MasVnrType is missing but MasVnrArea has a value, to understand the data inconsistencies."
   ]
  },
  {
   "cell_type": "markdown",
   "id": "004a4825",
   "metadata": {},
   "source": [
    "I am going to plot the histogram plot to see how the distribution of \"SalesPrice\" looks like."
   ]
  },
  {
   "cell_type": "code",
   "execution_count": 6,
   "id": "3865c1f3137cf792",
   "metadata": {
    "ExecuteTime": {
     "end_time": "2025-08-12T19:47:02.745035Z",
     "start_time": "2025-08-12T19:47:02.510331Z"
    }
   },
   "outputs": [
    {
     "data": {
      "image/png": "[encoded data removed]",
      "text/plain": [
       "<Figure size 640x480 with 1 Axes>"
      ]
     },
     "metadata": {},
     "output_type": "display_data"
    }
   ],
   "source": [
    "import seaborn as sns\n",
    "\n",
    "sns.set_style('whitegrid')\n",
    "sns.histplot(data=train_df[\"SalePrice\"], kde=True, bins=30)\n",
    "plt.title(\"Original Distribution of Sales Price\")\n",
    "plt.show()"
   ]
  },
  {
   "cell_type": "markdown",
   "id": "85260b9c",
   "metadata": {},
   "source": [
    "By seeing the chart, I am seeing the \"SalesPrice\" is rightly squeed which is expected for housing prices since expensive houses are less common than moderately priced ones thats why the bar height is higher between 100k to 250K range.  Most of the ML models works better in gaussian distribution so using log transformation on SalesPrice to reduce skewness. "
   ]
  },
  {
   "cell_type": "code",
   "execution_count": 7,
   "id": "86e2057f1cc59ff2",
   "metadata": {
    "ExecuteTime": {
     "end_time": "2025-08-12T19:47:03.157370Z",
     "start_time": "2025-08-12T19:47:02.888750Z"
    }
   },
   "outputs": [
    {
     "data": {
      "image/png": "[encoded data removed]",
      "text/plain": [
       "<Figure size 640x480 with 1 Axes>"
      ]
     },
     "metadata": {},
     "output_type": "display_data"
    }
   ],
   "source": [
    "import numpy as np\n",
    "train_df[\"SalePrice_log\"] = np.log1p(train_df[\"SalePrice\"])\n",
    "\n",
    "sns.histplot(data=train_df[\"SalePrice_log\"], kde=True)\n",
    "plt.title('Log-Transformed Distribution of SalePrice')\n",
    "plt.show()"
   ]
  },
  {
   "cell_type": "markdown",
   "id": "eaf028af",
   "metadata": {},
   "source": [
    "After the transformation, from the chart we can see that the distribution of \"SalesPrice\" is more gaussian and less skewed. This will help in improving the performance of the machine learning models that we will be using later on. Now we will perform missing value analysis."
   ]
  },
  {
   "cell_type": "code",
   "execution_count": 8,
   "id": "4f25f64e",
   "metadata": {
    "ExecuteTime": {
     "end_time": "2025-08-12T19:49:18.895045Z",
     "start_time": "2025-08-12T19:49:18.881491Z"
    }
   },
   "outputs": [
    {
     "name": "stdout",
     "output_type": "stream",
     "text": [
      "Columns with missing values, sorted by percentage:\n",
      "              Missing values  Percentage\n",
      "PoolQC                  1453   99.520548\n",
      "MiscFeature             1406   96.301370\n",
      "Alley                   1369   93.767123\n",
      "Fence                   1179   80.753425\n",
      "MasVnrType               872   59.726027\n",
      "FireplaceQu              690   47.260274\n",
      "LotFrontage              259   17.739726\n",
      "GarageType                81    5.547945\n",
      "GarageYrBlt               81    5.547945\n",
      "GarageFinish              81    5.547945\n",
      "GarageQual                81    5.547945\n",
      "GarageCond                81    5.547945\n",
      "BsmtFinType2              38    2.602740\n",
      "BsmtExposure              38    2.602740\n",
      "BsmtFinType1              37    2.534247\n",
      "BsmtCond                  37    2.534247\n",
      "BsmtQual                  37    2.534247\n",
      "MasVnrArea                 8    0.547945\n",
      "Electrical                 1    0.068493\n"
     ]
    }
   ],
   "source": [
    "missing_values = train_df.isnull().sum()\n",
    "missing_percentage = (missing_values / len(train_df)) * 100\n",
    "missing_info = pd.DataFrame({'Missing values': missing_values, 'Percentage': missing_percentage})\n",
    "missing_info = missing_info[missing_info['Missing values'] > 0].sort_values(by='Percentage', ascending=False)\n",
    "\n",
    "print(\"Columns with missing values, sorted by percentage:\")\n",
    "print(missing_info)"
   ]
  },
  {
   "cell_type": "markdown",
   "id": "43cf8e6c",
   "metadata": {},
   "source": [
    "There are several columns with missing values with more than 80 percentage. Lets filter those columns with more than 50% missing values and print the result. then we will investigate how to handle these missing values."
   ]
  },
  {
   "cell_type": "code",
   "execution_count": 9,
   "id": "abb5aa59be12242c",
   "metadata": {
    "ExecuteTime": {
     "end_time": "2025-08-12T20:25:32.800556Z",
     "start_time": "2025-08-12T20:25:32.724595Z"
    }
   },
   "outputs": [
    {
     "name": "stdout",
     "output_type": "stream",
     "text": [
      "Index(['Missing values', 'Percentage'], dtype='object')\n",
      "'Unique values in PoolQC'\n",
      "array([nan, 'Ex', 'Fa', 'Gd'], dtype=object)\n",
      "'Unique values in MiscFeature'\n",
      "array([nan, 'Shed', 'Gar2', 'Othr', 'TenC'], dtype=object)\n",
      "'Unique values in Alley'\n",
      "array([nan, 'Grvl', 'Pave'], dtype=object)\n",
      "'Unique values in Fence'\n",
      "array([nan, 'MnPrv', 'GdWo', 'GdPrv', 'MnWw'], dtype=object)\n",
      "'Unique values in MasVnrType'\n",
      "array(['BrkFace', nan, 'Stone', 'BrkCmn'], dtype=object)\n",
      "'Unique values in FireplaceQu'\n",
      "array([nan, 'TA', 'Gd', 'Fa', 'Ex', 'Po'], dtype=object)\n",
      "'Unique values in LotFrontage'\n",
      "array([ 65.,  80.,  68.,  60.,  84.,  85.,  75.,  nan,  51.,  50.,  70.,\n",
      "        91.,  72.,  66., 101.,  57.,  44., 110.,  98.,  47., 108., 112.,\n",
      "        74., 115.,  61.,  48.,  33.,  52., 100.,  24.,  89.,  63.,  76.,\n",
      "        81.,  95.,  69.,  21.,  32.,  78., 121., 122.,  40., 105.,  73.,\n",
      "        77.,  64.,  94.,  34.,  90.,  55.,  88.,  82.,  71., 120., 107.,\n",
      "        92., 134.,  62.,  86., 141.,  97.,  54.,  41.,  79., 174.,  99.,\n",
      "        67.,  83.,  43., 103.,  93.,  30., 129., 140.,  35.,  37., 118.,\n",
      "        87., 116., 150., 111.,  49.,  96.,  59.,  36.,  56., 102.,  58.,\n",
      "        38., 109., 130.,  53., 137.,  45., 106., 104.,  42.,  39., 144.,\n",
      "       114., 128., 149., 313., 168., 182., 138., 160., 152., 124., 153.,\n",
      "        46.])\n",
      "'Unique values in GarageType'\n",
      "array(['Attchd', 'Detchd', 'BuiltIn', 'CarPort', nan, 'Basment', '2Types'],\n",
      "      dtype=object)\n",
      "'Unique values in GarageYrBlt'\n",
      "array([2003., 1976., 2001., 1998., 2000., 1993., 2004., 1973., 1931.,\n",
      "       1939., 1965., 2005., 1962., 2006., 1960., 1991., 1970., 1967.,\n",
      "       1958., 1930., 2002., 1968., 2007., 2008., 1957., 1920., 1966.,\n",
      "       1959., 1995., 1954., 1953.,   nan, 1983., 1977., 1997., 1985.,\n",
      "       1963., 1981., 1964., 1999., 1935., 1990., 1945., 1987., 1989.,\n",
      "       1915., 1956., 1948., 1974., 2009., 1950., 1961., 1921., 1900.,\n",
      "       1979., 1951., 1969., 1936., 1975., 1971., 1923., 1984., 1926.,\n",
      "       1955., 1986., 1988., 1916., 1932., 1972., 1918., 1980., 1924.,\n",
      "       1996., 1940., 1949., 1994., 1910., 1978., 1982., 1992., 1925.,\n",
      "       1941., 2010., 1927., 1947., 1937., 1942., 1938., 1952., 1928.,\n",
      "       1922., 1934., 1906., 1914., 1946., 1908., 1929., 1933.])\n",
      "'Unique values in GarageFinish'\n",
      "array(['RFn', 'Unf', 'Fin', nan], dtype=object)\n",
      "'Unique values in GarageQual'\n",
      "array(['TA', 'Fa', 'Gd', nan, 'Ex', 'Po'], dtype=object)\n",
      "'Unique values in GarageCond'\n",
      "array(['TA', 'Fa', nan, 'Gd', 'Po', 'Ex'], dtype=object)\n",
      "'Unique values in BsmtFinType2'\n",
      "array(['Unf', 'BLQ', nan, 'ALQ', 'Rec', 'LwQ', 'GLQ'], dtype=object)\n",
      "'Unique values in BsmtExposure'\n",
      "array(['No', 'Gd', 'Mn', 'Av', nan], dtype=object)\n",
      "'Unique values in BsmtFinType1'\n",
      "array(['GLQ', 'ALQ', 'Unf', 'Rec', 'BLQ', nan, 'LwQ'], dtype=object)\n",
      "'Unique values in BsmtCond'\n",
      "array(['TA', 'Gd', nan, 'Fa', 'Po'], dtype=object)\n",
      "'Unique values in BsmtQual'\n",
      "array(['Gd', 'TA', 'Ex', nan, 'Fa'], dtype=object)\n",
      "'Unique values in MasVnrArea'\n",
      "array([1.960e+02, 0.000e+00, 1.620e+02, 3.500e+02, 1.860e+02, 2.400e+02,\n",
      "       2.860e+02, 3.060e+02, 2.120e+02, 1.800e+02, 3.800e+02, 2.810e+02,\n",
      "       6.400e+02, 2.000e+02, 2.460e+02, 1.320e+02, 6.500e+02, 1.010e+02,\n",
      "       4.120e+02, 2.720e+02, 4.560e+02, 1.031e+03, 1.780e+02, 5.730e+02,\n",
      "       3.440e+02, 2.870e+02, 1.670e+02, 1.115e+03, 4.000e+01, 1.040e+02,\n",
      "       5.760e+02, 4.430e+02, 4.680e+02, 6.600e+01, 2.200e+01, 2.840e+02,\n",
      "       7.600e+01, 2.030e+02, 6.800e+01, 1.830e+02, 4.800e+01, 2.800e+01,\n",
      "       3.360e+02, 6.000e+02, 7.680e+02, 4.800e+02, 2.200e+02, 1.840e+02,\n",
      "       1.129e+03, 1.160e+02, 1.350e+02, 2.660e+02, 8.500e+01, 3.090e+02,\n",
      "       1.360e+02, 2.880e+02, 7.000e+01, 3.200e+02, 5.000e+01, 1.200e+02,\n",
      "       4.360e+02, 2.520e+02, 8.400e+01, 6.640e+02, 2.260e+02, 3.000e+02,\n",
      "       6.530e+02, 1.120e+02, 4.910e+02, 2.680e+02, 7.480e+02, 9.800e+01,\n",
      "       2.750e+02, 1.380e+02, 2.050e+02, 2.620e+02, 1.280e+02, 2.600e+02,\n",
      "       1.530e+02, 6.400e+01, 3.120e+02, 1.600e+01, 9.220e+02, 1.420e+02,\n",
      "       2.900e+02, 1.270e+02, 5.060e+02, 2.970e+02,       nan, 6.040e+02,\n",
      "       2.540e+02, 3.600e+01, 1.020e+02, 4.720e+02, 4.810e+02, 1.080e+02,\n",
      "       3.020e+02, 1.720e+02, 3.990e+02, 2.700e+02, 4.600e+01, 2.100e+02,\n",
      "       1.740e+02, 3.480e+02, 3.150e+02, 2.990e+02, 3.400e+02, 1.660e+02,\n",
      "       7.200e+01, 3.100e+01, 3.400e+01, 2.380e+02, 1.600e+03, 3.650e+02,\n",
      "       5.600e+01, 1.500e+02, 2.780e+02, 2.560e+02, 2.250e+02, 3.700e+02,\n",
      "       3.880e+02, 1.750e+02, 2.960e+02, 1.460e+02, 1.130e+02, 1.760e+02,\n",
      "       6.160e+02, 3.000e+01, 1.060e+02, 8.700e+02, 3.620e+02, 5.300e+02,\n",
      "       5.000e+02, 5.100e+02, 2.470e+02, 3.050e+02, 2.550e+02, 1.250e+02,\n",
      "       1.000e+02, 4.320e+02, 1.260e+02, 4.730e+02, 7.400e+01, 1.450e+02,\n",
      "       2.320e+02, 3.760e+02, 4.200e+01, 1.610e+02, 1.100e+02, 1.800e+01,\n",
      "       2.240e+02, 2.480e+02, 8.000e+01, 3.040e+02, 2.150e+02, 7.720e+02,\n",
      "       4.350e+02, 3.780e+02, 5.620e+02, 1.680e+02, 8.900e+01, 2.850e+02,\n",
      "       3.600e+02, 9.400e+01, 3.330e+02, 9.210e+02, 7.620e+02, 5.940e+02,\n",
      "       2.190e+02, 1.880e+02, 4.790e+02, 5.840e+02, 1.820e+02, 2.500e+02,\n",
      "       2.920e+02, 2.450e+02, 2.070e+02, 8.200e+01, 9.700e+01, 3.350e+02,\n",
      "       2.080e+02, 4.200e+02, 1.700e+02, 4.590e+02, 2.800e+02, 9.900e+01,\n",
      "       1.920e+02, 2.040e+02, 2.330e+02, 1.560e+02, 4.520e+02, 5.130e+02,\n",
      "       2.610e+02, 1.640e+02, 2.590e+02, 2.090e+02, 2.630e+02, 2.160e+02,\n",
      "       3.510e+02, 6.600e+02, 3.810e+02, 5.400e+01, 5.280e+02, 2.580e+02,\n",
      "       4.640e+02, 5.700e+01, 1.470e+02, 1.170e+03, 2.930e+02, 6.300e+02,\n",
      "       4.660e+02, 1.090e+02, 4.100e+01, 1.600e+02, 2.890e+02, 6.510e+02,\n",
      "       1.690e+02, 9.500e+01, 4.420e+02, 2.020e+02, 3.380e+02, 8.940e+02,\n",
      "       3.280e+02, 6.730e+02, 6.030e+02, 1.000e+00, 3.750e+02, 9.000e+01,\n",
      "       3.800e+01, 1.570e+02, 1.100e+01, 1.400e+02, 1.300e+02, 1.480e+02,\n",
      "       8.600e+02, 4.240e+02, 1.047e+03, 2.430e+02, 8.160e+02, 3.870e+02,\n",
      "       2.230e+02, 1.580e+02, 1.370e+02, 1.150e+02, 1.890e+02, 2.740e+02,\n",
      "       1.170e+02, 6.000e+01, 1.220e+02, 9.200e+01, 4.150e+02, 7.600e+02,\n",
      "       2.700e+01, 7.500e+01, 3.610e+02, 1.050e+02, 3.420e+02, 2.980e+02,\n",
      "       5.410e+02, 2.360e+02, 1.440e+02, 4.230e+02, 4.400e+01, 1.510e+02,\n",
      "       9.750e+02, 4.500e+02, 2.300e+02, 5.710e+02, 2.400e+01, 5.300e+01,\n",
      "       2.060e+02, 1.400e+01, 3.240e+02, 2.950e+02, 3.960e+02, 6.700e+01,\n",
      "       1.540e+02, 4.250e+02, 4.500e+01, 1.378e+03, 3.370e+02, 1.490e+02,\n",
      "       1.430e+02, 5.100e+01, 1.710e+02, 2.340e+02, 6.300e+01, 7.660e+02,\n",
      "       3.200e+01, 8.100e+01, 1.630e+02, 5.540e+02, 2.180e+02, 6.320e+02,\n",
      "       1.140e+02, 5.670e+02, 3.590e+02, 4.510e+02, 6.210e+02, 7.880e+02,\n",
      "       8.600e+01, 7.960e+02, 3.910e+02, 2.280e+02, 8.800e+01, 1.650e+02,\n",
      "       4.280e+02, 4.100e+02, 5.640e+02, 3.680e+02, 3.180e+02, 5.790e+02,\n",
      "       6.500e+01, 7.050e+02, 4.080e+02, 2.440e+02, 1.230e+02, 3.660e+02,\n",
      "       7.310e+02, 4.480e+02, 2.940e+02, 3.100e+02, 2.370e+02, 4.260e+02,\n",
      "       9.600e+01, 4.380e+02, 1.940e+02, 1.190e+02])\n",
      "'Unique values in Electrical'\n",
      "array(['SBrkr', 'FuseF', 'FuseA', 'FuseP', 'Mix', nan], dtype=object)\n"
     ]
    }
   ],
   "source": [
    "from pprint import pprint\n",
    "pprint(missing_info.columns)\n",
    "for col in missing_info.index:\n",
    "    pprint(f\"Unique values in {col}\")\n",
    "    pprint(train_df[col].unique())"
   ]
  },
  {
   "cell_type": "markdown",
   "id": "d685448c",
   "metadata": {},
   "source": [
    "Many of the categorical features have missing values, which often indicates that the feature is simply not present for those houses. In these cases, it makes sense to replace missing values with \"None\" or \"Not present\" rather than assuming the data is unavailable. There are also numerical columns with missing values, which should be investigated further. In particular, I am interested in the \"MasVnrType\" and \"MasVnrArea\" columns: \"MasVnrType\" has many missing values, while \"MasVnrArea\" has very few. I will explore and handle these accordingly."
   ]
  },
  {
   "cell_type": "code",
   "execution_count": 10,
   "id": "3f4f99b3",
   "metadata": {},
   "outputs": [
    {
     "name": "stdout",
     "output_type": "stream",
     "text": [
      "Number of rows where MasVnrType is missing but MasVnrArea is present: 864\n"
     ]
    }
   ],
   "source": [
    "count = train_df[train_df['MasVnrType'].isnull() & train_df['MasVnrArea'].notnull()].shape[0]\n",
    "print(f\"Number of rows where MasVnrType is missing but MasVnrArea is present: {count}\")"
   ]
  },
  {
   "cell_type": "markdown",
   "id": "3a7b15c4",
   "metadata": {},
   "source": [
    "To further explore the inconsistency, I am printing the MasVnrArea values for those specific rows."
   ]
  },
  {
   "cell_type": "markdown",
   "id": "b3221a7f",
   "metadata": {},
   "source": [
    "I noticed that there are 864 rows where `MasVnrType` is missing but `MasVnrArea` has a value. This is unexpected, because if the type of masonry veneer is missing, we would typically expect the area to also be missing or zero. To better understand this, I will check whether the `MasVnrArea` values in these rows are all zero or if there are any positive values. If all values are zero, it likely means there is no masonry veneer and the missing type can be safely filled as \"None.\" However, if there are positive values, this could indicate a data entry issue or a special case that needs further investigation."
   ]
  },
  {
   "cell_type": "code",
   "execution_count": 11,
   "id": "acb935ab",
   "metadata": {},
   "outputs": [
    {
     "name": "stdout",
     "output_type": "stream",
     "text": [
      "1       0.0\n",
      "3       0.0\n",
      "5       0.0\n",
      "8       0.0\n",
      "9       0.0\n",
      "       ... \n",
      "1454    0.0\n",
      "1455    0.0\n",
      "1457    0.0\n",
      "1458    0.0\n",
      "1459    0.0\n",
      "Name: MasVnrArea, Length: 864, dtype: float64\n",
      "[  0. 288.   1. 344. 312.]\n"
     ]
    }
   ],
   "source": [
    "print(train_df[train_df['MasVnrType'].isnull() & train_df['MasVnrArea'].notnull()]['MasVnrArea'])\n",
    "print(train_df[train_df['MasVnrType'].isnull() & train_df['MasVnrArea'].notnull()]['MasVnrArea'].unique())"
   ]
  },
  {
   "cell_type": "markdown",
   "id": "46cfc8f0",
   "metadata": {},
   "source": [
    "I am checking the unique values in MasVnrArea for the inconsistent rows to see if any are non-zero."
   ]
  },
  {
   "cell_type": "code",
   "execution_count": 12,
   "id": "77d31241",
   "metadata": {},
   "outputs": [
    {
     "name": "stdout",
     "output_type": "stream",
     "text": [
      "624     288.0\n",
      "773       1.0\n",
      "1230      1.0\n",
      "1300    344.0\n",
      "1334    312.0\n",
      "Name: MasVnrArea, dtype: float64\n"
     ]
    }
   ],
   "source": [
    "print(train_df[train_df['MasVnrType'].isnull() & train_df['MasVnrArea'].notnull() & train_df['MasVnrArea'] != 0.0]['MasVnrArea'])"
   ]
  },
  {
   "cell_type": "markdown",
   "id": "b3921e15",
   "metadata": {},
   "source": [
    "To identify any positive values in MasVnrArea for the inconsistent rows, I am filtering and printing those."
   ]
  },
  {
   "cell_type": "code",
   "execution_count": 13,
   "id": "ab703478",
   "metadata": {},
   "outputs": [
    {
     "name": "stdout",
     "output_type": "stream",
     "text": [
      "Series([], Name: MasVnrArea, dtype: float64)\n"
     ]
    }
   ],
   "source": [
    "print(train_df[train_df['MasVnrType'].notnull() & train_df['MasVnrArea'].isnull()]['MasVnrArea'])"
   ]
  },
  {
   "cell_type": "markdown",
   "id": "e2817b79",
   "metadata": {},
   "source": [
    "To handle the inconsistencies between `MasVnrType` and `MasVnrArea`, I first set all missing values in `MasVnrType` to \"None\", indicating the absence of masonry veneer. After this, I checked the corresponding `MasVnrArea` values for these rows and found that some were not zero. Since a missing type likely means there is no masonry veneer, I set all `MasVnrArea` values to 0.0 where `MasVnrType` was originally missing. This ensures both columns consistently reflect the absence of masonry veneer and avoids introducing ambiguity into the dataset."
   ]
  },
  {
   "cell_type": "code",
   "execution_count": 14,
   "id": "77eb38ae",
   "metadata": {},
   "outputs": [],
   "source": [
    "train_df['MasVnrType'] = train_df['MasVnrType'].fillna(\"None\")\n",
    "train_df.loc[(train_df['MasVnrType'] == 'None') & (train_df['MasVnrArea'] != 0.0),'MasVnrArea'] = 0.0 "
   ]
  },
  {
   "cell_type": "markdown",
   "id": "8232b122",
   "metadata": {},
   "source": [
    "After handling the inconsistencies, I am verifying the unique values in MasVnrArea for rows where MasVnrType is \"None\"."
   ]
  },
  {
   "cell_type": "code",
   "execution_count": 15,
   "id": "29f9b746",
   "metadata": {},
   "outputs": [
    {
     "name": "stdout",
     "output_type": "stream",
     "text": [
      "[0.]\n"
     ]
    }
   ],
   "source": [
    "print(train_df[(train_df['MasVnrType'] == \"None\") & train_df['MasVnrArea'].notnull()]['MasVnrArea'].unique())"
   ]
  },
  {
   "cell_type": "markdown",
   "id": "dee172bc",
   "metadata": {},
   "source": [
    "I am analyzing the basement-related columns to check for missing values and inconsistencies."
   ]
  },
  {
   "cell_type": "markdown",
   "id": "380c021d",
   "metadata": {},
   "source": [
    "I am checking for rows where MasVnrType is not null but MasVnrArea is null to ensure consistency."
   ]
  },
  {
   "cell_type": "code",
   "execution_count": 16,
   "id": "80655536",
   "metadata": {},
   "outputs": [
    {
     "name": "stdout",
     "output_type": "stream",
     "text": [
      "Rows where any basement column is NaN: 39\n",
      "Rows where all basement columns are NaN: 37\n",
      "Rows with partial basement NaNs: 2\n",
      "    BsmtQual BsmtCond BsmtExposure BsmtFinType1 BsmtFinType2\n",
      "332       Gd       TA           No          GLQ          NaN\n",
      "948       Gd       TA          NaN          Unf          Unf\n"
     ]
    }
   ],
   "source": [
    "bsmt_cols = [\"BsmtQual\", \"BsmtCond\", \"BsmtExposure\", \"BsmtFinType1\", \"BsmtFinType2\"]\n",
    "any_nan = train_df[bsmt_cols].isnull().any(axis=1)\n",
    "all_nan = train_df[bsmt_cols].isnull().all(axis=1)\n",
    "\n",
    "print(\"Rows where any basement column is NaN:\", any_nan.sum())\n",
    "print(\"Rows where all basement columns are NaN:\", all_nan.sum())\n",
    "\n",
    "partial_nan = any_nan & ~all_nan\n",
    "print(\"Rows with partial basement NaNs:\", partial_nan.sum())\n",
    "print(train_df.loc[partial_nan, bsmt_cols])"
   ]
  },
  {
   "cell_type": "markdown",
   "id": "6477a93b",
   "metadata": {},
   "source": [
    "Based on the analysis, I am imputing the missing values in the basement columns using appropriate methods."
   ]
  },
  {
   "cell_type": "code",
   "execution_count": 17,
   "id": "1262840f",
   "metadata": {},
   "outputs": [
    {
     "name": "stdout",
     "output_type": "stream",
     "text": [
      "The mode for the BsmtFinType2 is Unf\n",
      "The mode for the BsmtExposure is No\n",
      "Rows where any basement column is NaN: 37\n",
      "Rows where all basement columns are NaN: 37\n",
      "Rows with partial basement NaNs: 0\n",
      "Empty DataFrame\n",
      "Columns: [BsmtQual, BsmtCond, BsmtExposure, BsmtFinType1, BsmtFinType2]\n",
      "Index: []\n"
     ]
    }
   ],
   "source": [
    "bsmt_fin_type2_mode = train_df['BsmtFinType2'].mode()[0]\n",
    "bsmt_exposure_mode = train_df['BsmtExposure'].mode()[0]\n",
    "print(f\"The mode for the BsmtFinType2 is {bsmt_fin_type2_mode}\")\n",
    "print(f\"The mode for the BsmtExposure is {bsmt_exposure_mode}\")\n",
    "\n",
    "train_df.loc[332, 'BsmtFinType2'] = bsmt_fin_type2_mode\n",
    "train_df.loc[948, 'BsmtExposure'] = bsmt_exposure_mode\n",
    "\n",
    "# Checking the same for consistemcy after imputation.\n",
    "any_nan = train_df[bsmt_cols].isnull().any(axis=1)\n",
    "all_nan = train_df[bsmt_cols].isnull().all(axis=1)\n",
    "\n",
    "print(\"Rows where any basement column is NaN:\", any_nan.sum())\n",
    "print(\"Rows where all basement columns are NaN:\", all_nan.sum())\n",
    "\n",
    "partial_nan = any_nan & ~all_nan\n",
    "print(\"Rows with partial basement NaNs:\", partial_nan.sum())\n",
    "print(train_df.loc[partial_nan, bsmt_cols])"
   ]
  },
  {
   "cell_type": "markdown",
   "id": "236a0cbf",
   "metadata": {},
   "source": [
    "Now, I am checking the garage-related columns for missing values and consistency."
   ]
  },
  {
   "cell_type": "code",
   "execution_count": 18,
   "id": "f62c2094",
   "metadata": {},
   "outputs": [
    {
     "name": "stdout",
     "output_type": "stream",
     "text": [
      "Rows where any garage column is NaN: 81\n",
      "Rows where all garage columns are NaN: 81\n",
      "Rows with partial garage NaNs: 0\n",
      "Empty DataFrame\n",
      "Columns: [GarageType, GarageFinish, GarageQual, GarageCond, GarageYrBlt]\n",
      "Index: []\n"
     ]
    }
   ],
   "source": [
    "garage_cols = [\"GarageType\", \"GarageFinish\", \"GarageQual\", \"GarageCond\"]\n",
    "garage_num_col = \"GarageYrBlt\"\n",
    "\n",
    "# Check consistency\n",
    "any_nan = train_df[garage_cols + [garage_num_col]].isnull().any(axis=1)\n",
    "all_nan = train_df[garage_cols + [garage_num_col]].isnull().all(axis=1)\n",
    "partial_nan = any_nan & ~all_nan\n",
    "\n",
    "print(\"Rows where any garage column is NaN:\", any_nan.sum())\n",
    "print(\"Rows where all garage columns are NaN:\", all_nan.sum())\n",
    "print(\"Rows with partial garage NaNs:\", partial_nan.sum())\n",
    "print(train_df.loc[partial_nan, garage_cols + [garage_num_col]])"
   ]
  },
  {
   "cell_type": "markdown",
   "id": "a4d88179",
   "metadata": {},
   "source": [
    "I am filling in the missing values for various categorical columns with \"None\" and numerical columns with appropriate values."
   ]
  },
  {
   "cell_type": "code",
   "execution_count": 19,
   "id": "f78a9c12",
   "metadata": {},
   "outputs": [],
   "source": [
    "cols_fill_none = [\n",
    "    'Alley', 'BsmtQual', 'BsmtCond', 'BsmtExposure', 'BsmtFinType1', \n",
    "    'BsmtFinType2', 'FireplaceQu', 'GarageType', 'GarageFinish', \n",
    "    'GarageQual', 'GarageCond', 'PoolQC', 'Fence', 'MiscFeature'\n",
    "]\n",
    "\n",
    "for col in cols_fill_none:\n",
    "    train_df[col] = train_df[col].fillna(\"None\")\n",
    "\n",
    "# For GarageYrBlt, NaN means no garage. Filling with 0 is a good way to represent this.\n",
    "train_df['GarageYrBlt'] = train_df['GarageYrBlt'].fillna(0)\n",
    "\n",
    "# For MasVnrArea, the remaining 8 NaNs also mean no veneer.\n",
    "train_df['MasVnrArea'] = train_df['MasVnrArea'].fillna(0.0)\n",
    "\n",
    "# For a single missing value, the mode is a safe and quick choice.\n",
    "electrical_mode = train_df['Electrical'].mode()[0]\n",
    "train_df['Electrical'] = train_df['Electrical'].fillna(electrical_mode)"
   ]
  },
  {
   "cell_type": "markdown",
   "id": "7ec413df",
   "metadata": {},
   "source": [
    "After handling missing values, I am checking again for any remaining missing data in the dataset."
   ]
  },
  {
   "cell_type": "code",
   "execution_count": 20,
   "id": "7bf5c44f",
   "metadata": {},
   "outputs": [
    {
     "name": "stdout",
     "output_type": "stream",
     "text": [
      "Columns with missing values, sorted by percentage:\n",
      "             Missing values  Percentage\n",
      "LotFrontage             259   17.739726\n"
     ]
    }
   ],
   "source": [
    "# revisiting the missing info again\n",
    "\n",
    "missing_values = train_df.isnull().sum()\n",
    "missing_percentage = (missing_values / len(train_df)) * 100\n",
    "missing_info = pd.DataFrame({'Missing values': missing_values, 'Percentage': missing_percentage})\n",
    "missing_info = missing_info[missing_info['Missing values'] > 0].sort_values(by='Percentage', ascending=False)\n",
    "\n",
    "print(\"Columns with missing values, sorted by percentage:\")\n",
    "print(missing_info)"
   ]
  },
  {
   "cell_type": "markdown",
   "id": "03637105",
   "metadata": {},
   "source": [
    "Lets investigate how LotFrontage is related to LotArea. LotFrontage is the linear feet of street connected to the property, while LotArea is the total area of the lot in square feet. A scatter plot can help visualize the relationship between these two features."
   ]
  },
  {
   "cell_type": "code",
   "execution_count": 21,
   "id": "05109f59",
   "metadata": {},
   "outputs": [
    {
     "data": {
      "text/plain": [
       "<Axes: xlabel='LotFrontage', ylabel='LotArea'>"
      ]
     },
     "execution_count": 21,
     "metadata": {},
     "output_type": "execute_result"
    },
    {
     "data": {
      "image/png": "[encoded data removed]",
      "text/plain": [
       "<Figure size 640x480 with 1 Axes>"
      ]
     },
     "metadata": {},
     "output_type": "display_data"
    }
   ],
   "source": [
    "sns.scatterplot(x='LotFrontage', y='LotArea', data=train_df)"
   ]
  },
  {
   "cell_type": "markdown",
   "id": "b418b21c",
   "metadata": {},
   "source": [
    "After investigating the missing `LotFrontage` values, I realized that simply filling them with the overall mean or median of the entire dataset would be too simplistic. This approach would ignore the fact that lot sizes can vary significantly from one neighborhood to another.\n",
    "\n",
    "My first thought was to see if `LotFrontage` was related to `LotArea`. I created a scatter plot which confirmed a positive correlation—as `LotArea` increases, `LotFrontage` tends to increase as well. However, the relationship was quite noisy, with a wide range of `LotFrontage` values for any given `LotArea`. This meant that predicting `LotFrontage` from `LotArea` might not be very reliable.\n",
    "\n",
    "This led me to a more robust hypothesis: houses within the same `Neighborhood` are likely to have similar lot frontages. This makes sense from a real-world perspective, as neighborhoods are often developed with similar zoning regulations and lot designs. Therefore, I decided to impute the missing `LotFrontage` values by using the median `LotFrontage` of each house's specific neighborhood. This is a much more intelligent imputation strategy because it uses local, contextual information to make a more accurate estimate.\n"
   ]
  },
  {
   "cell_type": "code",
   "execution_count": 22,
   "id": "72017d4c",
   "metadata": {},
   "outputs": [],
   "source": [
    "train_df['LotFrontage'] = train_df.groupby('Neighborhood')['LotFrontage'].transform(lambda x: x.fillna(x.median()))"
   ]
  },
  {
   "cell_type": "markdown",
   "id": "ef2ad6a2",
   "metadata": {},
   "source": [
    "After imputation, I am verifying that all missing values have been handled."
   ]
  },
  {
   "cell_type": "code",
   "execution_count": 23,
   "id": "02e098ca",
   "metadata": {},
   "outputs": [
    {
     "name": "stdout",
     "output_type": "stream",
     "text": [
      "Columns with missing values, sorted by percentage:\n",
      "Empty DataFrame\n",
      "Columns: [Missing values, Percentage]\n",
      "Index: []\n"
     ]
    }
   ],
   "source": [
    "# revisiting the missing info again\n",
    "\n",
    "missing_values = train_df.isnull().sum()\n",
    "missing_percentage = (missing_values / len(train_df)) * 100\n",
    "missing_info = pd.DataFrame({'Missing values': missing_values, 'Percentage': missing_percentage})\n",
    "missing_info = missing_info[missing_info['Missing values'] > 0].sort_values(by='Percentage', ascending=False)\n",
    "\n",
    "print(\"Columns with missing values, sorted by percentage:\")\n",
    "print(missing_info)"
   ]
  },
  {
   "cell_type": "markdown",
   "id": "5116b06d",
   "metadata": {},
   "source": [
    "I am creating new features to better capture the relationships in the data, such as house age and total square footage."
   ]
  },
  {
   "cell_type": "markdown",
   "id": "638cf2bb",
   "metadata": {},
   "source": []
  },
  {
   "cell_type": "markdown",
   "id": "de449e3b",
   "metadata": {},
   "source": [
    "## Feature Engineering\n"
   ]
  },
  {
   "cell_type": "code",
   "execution_count": 24,
   "id": "35f30ac0",
   "metadata": {},
   "outputs": [
    {
     "name": "stdout",
     "output_type": "stream",
     "text": [
      "Dropped the following columns:\n",
      "['YearBuilt', 'YearRemodAdd', 'YrSold', 'TotalBsmtSF', 'GrLivArea', 'FullBath', 'HalfBath', 'BsmtFullBath', 'BsmtHalfBath', 'PoolArea', '2ndFlrSF', 'GarageArea']\n",
      "\n",
      "New shape of train_df: (1460, 77)\n"
     ]
    }
   ],
   "source": [
    "train_df['HouseAge'] = train_df['YrSold'] - train_df['YearBuilt']\n",
    "train_df['AgeSinceRemod'] = train_df['YrSold'] - train_df['YearRemodAdd']\n",
    "train_df['TotalSF'] = train_df['TotalBsmtSF'] + train_df['GrLivArea']\n",
    "train_df['TotalBathrooms'] = (train_df['FullBath'] + 0.5 * train_df['HalfBath'] +\n",
    "                               train_df['BsmtFullBath'] + 0.5 * train_df['BsmtHalfBath'])\n",
    "train_df['HasPool'] = train_df['PoolArea'].apply(lambda x: 1 if x > 0 else 0)\n",
    "train_df['Has2ndFloor'] = train_df['2ndFlrSF'].apply(lambda x: 1 if x > 0 else 0)\n",
    "train_df['HasGarage'] = train_df['GarageArea'].apply(lambda x: 1 if x > 0 else 0)\n",
    "\n",
    "# Since we feature engineered new columns, we don t need these original column anymore.\n",
    "cols_to_drop = [\n",
    "    'YearBuilt', 'YearRemodAdd', 'YrSold', # Used for age features\n",
    "    'TotalBsmtSF', 'GrLivArea',            # Used for TotalSF\n",
    "    'FullBath', 'HalfBath', 'BsmtFullBath', 'BsmtHalfBath', # Used for TotalBathrooms\n",
    "    'PoolArea', '2ndFlrSF', 'GarageArea'    # Used for binary 'Has' features\n",
    "]\n",
    "\n",
    "# We use errors='ignore' in case a column was already dropped or doesn't exist\n",
    "train_df = train_df.drop(columns=cols_to_drop, errors='ignore')\n",
    "\n",
    "print(\"Dropped the following columns:\")\n",
    "print(cols_to_drop)\n",
    "print(f\"\\nNew shape of train_df: {train_df.shape}\")\n",
    "\n",
    "\n"
   ]
  },
  {
   "cell_type": "markdown",
   "id": "c587b77b",
   "metadata": {},
   "source": [
    "To prepare the categorical data for modeling, I am examining the unique values in each categorical column."
   ]
  },
  {
   "cell_type": "markdown",
   "id": "b6791f75",
   "metadata": {},
   "source": [
    "we are going to perform one hot encoding"
   ]
  },
  {
   "cell_type": "code",
   "execution_count": 25,
   "id": "18e2ed1c",
   "metadata": {},
   "outputs": [
    {
     "name": "stdout",
     "output_type": "stream",
     "text": [
      "Column: MSZoning\n",
      "['RL' 'RM' 'C (all)' 'FV' 'RH']\n",
      "----------------------------------------\n",
      "Column: Street\n",
      "['Pave' 'Grvl']\n",
      "----------------------------------------\n",
      "Column: Alley\n",
      "['None' 'Grvl' 'Pave']\n",
      "----------------------------------------\n",
      "Column: LotShape\n",
      "['Reg' 'IR1' 'IR2' 'IR3']\n",
      "----------------------------------------\n",
      "Column: LandContour\n",
      "['Lvl' 'Bnk' 'Low' 'HLS']\n",
      "----------------------------------------\n",
      "Column: Utilities\n",
      "['AllPub' 'NoSeWa']\n",
      "----------------------------------------\n",
      "Column: LotConfig\n",
      "['Inside' 'FR2' 'Corner' 'CulDSac' 'FR3']\n",
      "----------------------------------------\n",
      "Column: LandSlope\n",
      "['Gtl' 'Mod' 'Sev']\n",
      "----------------------------------------\n",
      "Column: Neighborhood\n",
      "['CollgCr' 'Veenker' 'Crawfor' 'NoRidge' 'Mitchel' 'Somerst' 'NWAmes'\n",
      " 'OldTown' 'BrkSide' 'Sawyer' 'NridgHt' 'NAmes' 'SawyerW' 'IDOTRR'\n",
      " 'MeadowV' 'Edwards' 'Timber' 'Gilbert' 'StoneBr' 'ClearCr' 'NPkVill'\n",
      " 'Blmngtn' 'BrDale' 'SWISU' 'Blueste']\n",
      "----------------------------------------\n",
      "Column: Condition1\n",
      "['Norm' 'Feedr' 'PosN' 'Artery' 'RRAe' 'RRNn' 'RRAn' 'PosA' 'RRNe']\n",
      "----------------------------------------\n",
      "Column: Condition2\n",
      "['Norm' 'Artery' 'RRNn' 'Feedr' 'PosN' 'PosA' 'RRAn' 'RRAe']\n",
      "----------------------------------------\n",
      "Column: BldgType\n",
      "['1Fam' '2fmCon' 'Duplex' 'TwnhsE' 'Twnhs']\n",
      "----------------------------------------\n",
      "Column: HouseStyle\n",
      "['2Story' '1Story' '1.5Fin' '1.5Unf' 'SFoyer' 'SLvl' '2.5Unf' '2.5Fin']\n",
      "----------------------------------------\n",
      "Column: RoofStyle\n",
      "['Gable' 'Hip' 'Gambrel' 'Mansard' 'Flat' 'Shed']\n",
      "----------------------------------------\n",
      "Column: RoofMatl\n",
      "['CompShg' 'WdShngl' 'Metal' 'WdShake' 'Membran' 'Tar&Grv' 'Roll'\n",
      " 'ClyTile']\n",
      "----------------------------------------\n",
      "Column: Exterior1st\n",
      "['VinylSd' 'MetalSd' 'Wd Sdng' 'HdBoard' 'BrkFace' 'WdShing' 'CemntBd'\n",
      " 'Plywood' 'AsbShng' 'Stucco' 'BrkComm' 'AsphShn' 'Stone' 'ImStucc'\n",
      " 'CBlock']\n",
      "----------------------------------------\n",
      "Column: Exterior2nd\n",
      "['VinylSd' 'MetalSd' 'Wd Shng' 'HdBoard' 'Plywood' 'Wd Sdng' 'CmentBd'\n",
      " 'BrkFace' 'Stucco' 'AsbShng' 'Brk Cmn' 'ImStucc' 'AsphShn' 'Stone'\n",
      " 'Other' 'CBlock']\n",
      "----------------------------------------\n",
      "Column: MasVnrType\n",
      "['BrkFace' 'None' 'Stone' 'BrkCmn']\n",
      "----------------------------------------\n",
      "Column: ExterQual\n",
      "['Gd' 'TA' 'Ex' 'Fa']\n",
      "----------------------------------------\n",
      "Column: ExterCond\n",
      "['TA' 'Gd' 'Fa' 'Po' 'Ex']\n",
      "----------------------------------------\n",
      "Column: Foundation\n",
      "['PConc' 'CBlock' 'BrkTil' 'Wood' 'Slab' 'Stone']\n",
      "----------------------------------------\n",
      "Column: BsmtQual\n",
      "['Gd' 'TA' 'Ex' 'None' 'Fa']\n",
      "----------------------------------------\n",
      "Column: BsmtCond\n",
      "['TA' 'Gd' 'None' 'Fa' 'Po']\n",
      "----------------------------------------\n",
      "Column: BsmtExposure\n",
      "['No' 'Gd' 'Mn' 'Av' 'None']\n",
      "----------------------------------------\n",
      "Column: BsmtFinType1\n",
      "['GLQ' 'ALQ' 'Unf' 'Rec' 'BLQ' 'None' 'LwQ']\n",
      "----------------------------------------\n",
      "Column: BsmtFinType2\n",
      "['Unf' 'BLQ' 'None' 'ALQ' 'Rec' 'LwQ' 'GLQ']\n",
      "----------------------------------------\n",
      "Column: Heating\n",
      "['GasA' 'GasW' 'Grav' 'Wall' 'OthW' 'Floor']\n",
      "----------------------------------------\n",
      "Column: HeatingQC\n",
      "['Ex' 'Gd' 'TA' 'Fa' 'Po']\n",
      "----------------------------------------\n",
      "Column: CentralAir\n",
      "['Y' 'N']\n",
      "----------------------------------------\n",
      "Column: Electrical\n",
      "['SBrkr' 'FuseF' 'FuseA' 'FuseP' 'Mix']\n",
      "----------------------------------------\n",
      "Column: KitchenQual\n",
      "['Gd' 'TA' 'Ex' 'Fa']\n",
      "----------------------------------------\n",
      "Column: Functional\n",
      "['Typ' 'Min1' 'Maj1' 'Min2' 'Mod' 'Maj2' 'Sev']\n",
      "----------------------------------------\n",
      "Column: FireplaceQu\n",
      "['None' 'TA' 'Gd' 'Fa' 'Ex' 'Po']\n",
      "----------------------------------------\n",
      "Column: GarageType\n",
      "['Attchd' 'Detchd' 'BuiltIn' 'CarPort' 'None' 'Basment' '2Types']\n",
      "----------------------------------------\n",
      "Column: GarageFinish\n",
      "['RFn' 'Unf' 'Fin' 'None']\n",
      "----------------------------------------\n",
      "Column: GarageQual\n",
      "['TA' 'Fa' 'Gd' 'None' 'Ex' 'Po']\n",
      "----------------------------------------\n",
      "Column: GarageCond\n",
      "['TA' 'Fa' 'None' 'Gd' 'Po' 'Ex']\n",
      "----------------------------------------\n",
      "Column: PavedDrive\n",
      "['Y' 'N' 'P']\n",
      "----------------------------------------\n",
      "Column: PoolQC\n",
      "['None' 'Ex' 'Fa' 'Gd']\n",
      "----------------------------------------\n",
      "Column: Fence\n",
      "['None' 'MnPrv' 'GdWo' 'GdPrv' 'MnWw']\n",
      "----------------------------------------\n",
      "Column: MiscFeature\n",
      "['None' 'Shed' 'Gar2' 'Othr' 'TenC']\n",
      "----------------------------------------\n",
      "Column: SaleType\n",
      "['WD' 'New' 'COD' 'ConLD' 'ConLI' 'CWD' 'ConLw' 'Con' 'Oth']\n",
      "----------------------------------------\n",
      "Column: SaleCondition\n",
      "['Normal' 'Abnorml' 'Partial' 'AdjLand' 'Alloca' 'Family']\n",
      "----------------------------------------\n"
     ]
    }
   ],
   "source": [
    "for col in train_df.select_dtypes(include=['object', 'string']).columns:\n",
    "    print(f\"Column: {col}\")\n",
    "    print(train_df[col].unique())\n",
    "    print(\"-\" * 40)"
   ]
  },
  {
   "cell_type": "markdown",
   "id": "24d67eb4",
   "metadata": {},
   "source": [
    "I am applying one-hot encoding to convert categorical variables into numerical format for the machine learning models."
   ]
  },
  {
   "cell_type": "markdown",
   "id": "9b077fe9",
   "metadata": {},
   "source": [
    "After a thorough analysis of all the non-numeric columns, I confirmed that they are all categorical in nature. Each one represents a finite set of distinct groups, like 'Neighborhood' or 'RoofStyle', rather than free-form text or unique IDs.\n",
    "\n",
    "Since machine learning models require numerical input, I needed to convert these text-based categories into numbers. I decided against simply assigning sequential numbers (e.g., 1, 2, 3) to the categories, as this would create an artificial and misleading order that the model might misinterpret (for example, assuming one roof style is 'greater' than another).\n",
    "\n",
    "To avoid this, I chose one-hot encoding. This technique creates new binary (0 or 1) columns for each category, which allows the model to treat each one as a separate, independent feature without imposing any false ranking. This is a much more robust way to handle categorical data for the models I plan to use."
   ]
  },
  {
   "cell_type": "code",
   "execution_count": 26,
   "id": "359cad1a",
   "metadata": {},
   "outputs": [
    {
     "name": "stdout",
     "output_type": "stream",
     "text": [
      "Shape of the original DataFrame: (1460, 77)\n",
      "Shape of the one-hot encoded DataFrame: (1460, 300)\n"
     ]
    },
    {
     "data": {
      "text/html": [
       "<div>\n",
       "<style scoped>\n",
       "    .dataframe tbody tr th:only-of-type {\n",
       "        vertical-align: middle;\n",
       "    }\n",
       "\n",
       "    .dataframe tbody tr th {\n",
       "        vertical-align: top;\n",
       "    }\n",
       "\n",
       "    .dataframe thead th {\n",
       "        text-align: right;\n",
       "    }\n",
       "</style>\n",
       "<table border=\"1\" class=\"dataframe\">\n",
       "  <thead>\n",
       "    <tr style=\"text-align: right;\">\n",
       "      <th></th>\n",
       "      <th>Id</th>\n",
       "      <th>MSSubClass</th>\n",
       "      <th>LotFrontage</th>\n",
       "      <th>LotArea</th>\n",
       "      <th>OverallQual</th>\n",
       "      <th>OverallCond</th>\n",
       "      <th>MasVnrArea</th>\n",
       "      <th>BsmtFinSF1</th>\n",
       "      <th>BsmtFinSF2</th>\n",
       "      <th>BsmtUnfSF</th>\n",
       "      <th>...</th>\n",
       "      <th>SaleType_ConLw</th>\n",
       "      <th>SaleType_New</th>\n",
       "      <th>SaleType_Oth</th>\n",
       "      <th>SaleType_WD</th>\n",
       "      <th>SaleCondition_Abnorml</th>\n",
       "      <th>SaleCondition_AdjLand</th>\n",
       "      <th>SaleCondition_Alloca</th>\n",
       "      <th>SaleCondition_Family</th>\n",
       "      <th>SaleCondition_Normal</th>\n",
       "      <th>SaleCondition_Partial</th>\n",
       "    </tr>\n",
       "  </thead>\n",
       "  <tbody>\n",
       "    <tr>\n",
       "      <th>0</th>\n",
       "      <td>1</td>\n",
       "      <td>60</td>\n",
       "      <td>65.0</td>\n",
       "      <td>8450</td>\n",
       "      <td>7</td>\n",
       "      <td>5</td>\n",
       "      <td>196.0</td>\n",
       "      <td>706</td>\n",
       "      <td>0</td>\n",
       "      <td>150</td>\n",
       "      <td>...</td>\n",
       "      <td>False</td>\n",
       "      <td>False</td>\n",
       "      <td>False</td>\n",
       "      <td>True</td>\n",
       "      <td>False</td>\n",
       "      <td>False</td>\n",
       "      <td>False</td>\n",
       "      <td>False</td>\n",
       "      <td>True</td>\n",
       "      <td>False</td>\n",
       "    </tr>\n",
       "    <tr>\n",
       "      <th>1</th>\n",
       "      <td>2</td>\n",
       "      <td>20</td>\n",
       "      <td>80.0</td>\n",
       "      <td>9600</td>\n",
       "      <td>6</td>\n",
       "      <td>8</td>\n",
       "      <td>0.0</td>\n",
       "      <td>978</td>\n",
       "      <td>0</td>\n",
       "      <td>284</td>\n",
       "      <td>...</td>\n",
       "      <td>False</td>\n",
       "      <td>False</td>\n",
       "      <td>False</td>\n",
       "      <td>True</td>\n",
       "      <td>False</td>\n",
       "      <td>False</td>\n",
       "      <td>False</td>\n",
       "      <td>False</td>\n",
       "      <td>True</td>\n",
       "      <td>False</td>\n",
       "    </tr>\n",
       "    <tr>\n",
       "      <th>2</th>\n",
       "      <td>3</td>\n",
       "      <td>60</td>\n",
       "      <td>68.0</td>\n",
       "      <td>11250</td>\n",
       "      <td>7</td>\n",
       "      <td>5</td>\n",
       "      <td>162.0</td>\n",
       "      <td>486</td>\n",
       "      <td>0</td>\n",
       "      <td>434</td>\n",
       "      <td>...</td>\n",
       "      <td>False</td>\n",
       "      <td>False</td>\n",
       "      <td>False</td>\n",
       "      <td>True</td>\n",
       "      <td>False</td>\n",
       "      <td>False</td>\n",
       "      <td>False</td>\n",
       "      <td>False</td>\n",
       "      <td>True</td>\n",
       "      <td>False</td>\n",
       "    </tr>\n",
       "    <tr>\n",
       "      <th>3</th>\n",
       "      <td>4</td>\n",
       "      <td>70</td>\n",
       "      <td>60.0</td>\n",
       "      <td>9550</td>\n",
       "      <td>7</td>\n",
       "      <td>5</td>\n",
       "      <td>0.0</td>\n",
       "      <td>216</td>\n",
       "      <td>0</td>\n",
       "      <td>540</td>\n",
       "      <td>...</td>\n",
       "      <td>False</td>\n",
       "      <td>False</td>\n",
       "      <td>False</td>\n",
       "      <td>True</td>\n",
       "      <td>True</td>\n",
       "      <td>False</td>\n",
       "      <td>False</td>\n",
       "      <td>False</td>\n",
       "      <td>False</td>\n",
       "      <td>False</td>\n",
       "    </tr>\n",
       "    <tr>\n",
       "      <th>4</th>\n",
       "      <td>5</td>\n",
       "      <td>60</td>\n",
       "      <td>84.0</td>\n",
       "      <td>14260</td>\n",
       "      <td>8</td>\n",
       "      <td>5</td>\n",
       "      <td>350.0</td>\n",
       "      <td>655</td>\n",
       "      <td>0</td>\n",
       "      <td>490</td>\n",
       "      <td>...</td>\n",
       "      <td>False</td>\n",
       "      <td>False</td>\n",
       "      <td>False</td>\n",
       "      <td>True</td>\n",
       "      <td>False</td>\n",
       "      <td>False</td>\n",
       "      <td>False</td>\n",
       "      <td>False</td>\n",
       "      <td>True</td>\n",
       "      <td>False</td>\n",
       "    </tr>\n",
       "  </tbody>\n",
       "</table>\n",
       "<p>5 rows × 300 columns</p>\n",
       "</div>"
      ],
      "text/plain": [
       "   Id  MSSubClass  LotFrontage  LotArea  OverallQual  OverallCond  MasVnrArea  \\\n",
       "0   1          60         65.0     8450            7            5       196.0   \n",
       "1   2          20         80.0     9600            6            8         0.0   \n",
       "2   3          60         68.0    11250            7            5       162.0   \n",
       "3   4          70         60.0     9550            7            5         0.0   \n",
       "4   5          60         84.0    14260            8            5       350.0   \n",
       "\n",
       "   BsmtFinSF1  BsmtFinSF2  BsmtUnfSF  ...  SaleType_ConLw  SaleType_New  \\\n",
       "0         706           0        150  ...           False         False   \n",
       "1         978           0        284  ...           False         False   \n",
       "2         486           0        434  ...           False         False   \n",
       "3         216           0        540  ...           False         False   \n",
       "4         655           0        490  ...           False         False   \n",
       "\n",
       "   SaleType_Oth  SaleType_WD  SaleCondition_Abnorml  SaleCondition_AdjLand  \\\n",
       "0         False         True                  False                  False   \n",
       "1         False         True                  False                  False   \n",
       "2         False         True                  False                  False   \n",
       "3         False         True                   True                  False   \n",
       "4         False         True                  False                  False   \n",
       "\n",
       "   SaleCondition_Alloca  SaleCondition_Family  SaleCondition_Normal  \\\n",
       "0                 False                 False                  True   \n",
       "1                 False                 False                  True   \n",
       "2                 False                 False                  True   \n",
       "3                 False                 False                 False   \n",
       "4                 False                 False                  True   \n",
       "\n",
       "   SaleCondition_Partial  \n",
       "0                  False  \n",
       "1                  False  \n",
       "2                  False  \n",
       "3                  False  \n",
       "4                  False  \n",
       "\n",
       "[5 rows x 300 columns]"
      ]
     },
     "execution_count": 26,
     "metadata": {},
     "output_type": "execute_result"
    }
   ],
   "source": [
    "train_df_encoded = pd.get_dummies(train_df)\n",
    "print(\"Shape of the original DataFrame:\", train_df.shape)\n",
    "print(\"Shape of the one-hot encoded DataFrame:\", train_df_encoded.shape)\n",
    "train_df_encoded.head()"
   ]
  },
  {
   "cell_type": "markdown",
   "id": "50998e4c",
   "metadata": {},
   "source": [
    "After encoding, I am checking the information about the new DataFrame to ensure everything is correct."
   ]
  },
  {
   "cell_type": "markdown",
   "id": "3cc329aa",
   "metadata": {},
   "source": [
    "I was wondering why `get_dummies` returned `True` or `False` instead of `1`s and `0`s, so I did some research. It turns out this is a deliberate and beneficial optimization made by the pandas developers.\n",
    "\n",
    "Here’s what I found and why I'm keeping the data in this format:\n",
    "\n",
    "1.  **Significant Memory Savings:** The main reason is memory efficiency. A boolean value (`True`/`False`) only needs **1 bit** of storage. In contrast, even the smallest standard integer type (`int8`) uses **8 bits**. This means the boolean representation uses up to 8 times less memory, which is a huge saving when dealing with many new dummy columns.\n",
    "\n",
    "2.  **Faster Processing Due to Caching:** While it seems like converting `True`/`False` to `1`/`0` during calculations would add overhead, the real performance bottleneck is often moving data from main memory (RAM) to the CPU's cache. Because the boolean DataFrame is much smaller, more of it fits into this super-fast cache. This reduces the time the CPU spends waiting for data and leads to a significant overall speedup during model training. The conversion cost itself is negligible.\n",
    "\n",
    "3.  **Seamless Compatibility:** Most importantly, machine learning libraries like scikit-learn are designed to handle this. They automatically treat `True` as `1` and `False` as `0` during any mathematical operation, so there's no need for me to change it.\n",
    "\n",
    "In short, leaving the dummy variables as `True`/`False` gives me a more memory-efficient and faster-processing DataFrame without any negative side effects on the modeling process.\n"
   ]
  },
  {
   "cell_type": "code",
   "execution_count": 27,
   "id": "54adeed8",
   "metadata": {},
   "outputs": [
    {
     "name": "stdout",
     "output_type": "stream",
     "text": [
      "<class 'pandas.core.frame.DataFrame'>\n",
      "RangeIndex: 1460 entries, 0 to 1459\n",
      "Columns: 300 entries, Id to SaleCondition_Partial\n",
      "dtypes: bool(266), float64(5), int64(29)\n",
      "memory usage: 767.2 KB\n",
      "None\n"
     ]
    }
   ],
   "source": [
    "print(train_df_encoded.info())"
   ]
  },
  {
   "cell_type": "markdown",
   "id": "b7e3cf68",
   "metadata": {},
   "source": [
    "I am verifying the columns in the encoded DataFrame and checking for the presence of the target variable."
   ]
  },
  {
   "cell_type": "code",
   "execution_count": 28,
   "id": "05599b88",
   "metadata": {},
   "outputs": [
    {
     "name": "stdout",
     "output_type": "stream",
     "text": [
      "Index(['Id', 'MSSubClass', 'LotFrontage', 'LotArea', 'OverallQual',\n",
      "       'OverallCond', 'MasVnrArea', 'BsmtFinSF1', 'BsmtFinSF2', 'BsmtUnfSF',\n",
      "       ...\n",
      "       'SaleType_ConLw', 'SaleType_New', 'SaleType_Oth', 'SaleType_WD',\n",
      "       'SaleCondition_Abnorml', 'SaleCondition_AdjLand',\n",
      "       'SaleCondition_Alloca', 'SaleCondition_Family', 'SaleCondition_Normal',\n",
      "       'SaleCondition_Partial'],\n",
      "      dtype='object', length=300)\n",
      "'SalePrice_log' column exists in train_df_encoded.\n"
     ]
    }
   ],
   "source": [
    "print(train_df_encoded.columns)\n",
    "# Check if 'SalePrice_log' is a column in the DataFrame\n",
    "if 'SalePrice_log' in train_df_encoded.columns:\n",
    "    print(\"'SalePrice_log' column exists in train_df_encoded.\")\n",
    "else:\n",
    "    print(\"'SalePrice_log' column does NOT exist in train_df_encoded.\")"
   ]
  },
  {
   "cell_type": "markdown",
   "id": "9bf931f7",
   "metadata": {},
   "source": [
    "I am splitting the data into training and test sets to prepare for model training and evaluation."
   ]
  },
  {
   "cell_type": "code",
   "execution_count": 29,
   "id": "397e264a",
   "metadata": {},
   "outputs": [
    {
     "name": "stdout",
     "output_type": "stream",
     "text": [
      "Shape of X_train: (1168, 297)\n",
      "Shape of X_test: (292, 297)\n",
      "Shape of y_train: (1168,)\n",
      "Shape of y_test: (292,)\n"
     ]
    }
   ],
   "source": [
    "from sklearn.model_selection import train_test_split\n",
    "\n",
    "y = train_df_encoded['SalePrice_log']\n",
    "X = train_df_encoded.drop(columns=['SalePrice', 'SalePrice_log', 'Id'])\n",
    "\n",
    "X_train, X_test, y_train, y_test = train_test_split(X, y, test_size=0.2, random_state=42)\n",
    "print(f\"Shape of X_train: {X_train.shape}\")\n",
    "print(f\"Shape of X_test: {X_test.shape}\")\n",
    "print(f\"Shape of y_train: {y_train.shape}\")\n",
    "print(f\"Shape of y_test: {y_test.shape}\")"
   ]
  },
  {
   "cell_type": "markdown",
   "id": "38c62654",
   "metadata": {},
   "source": [
    "I am training a baseline Random Forest model to establish a performance benchmark."
   ]
  },
  {
   "cell_type": "code",
   "execution_count": 30,
   "id": "23943696",
   "metadata": {},
   "outputs": [
    {
     "name": "stdout",
     "output_type": "stream",
     "text": [
      "Training the baseline Random Forest model...\n",
      "Model training complete!\n",
      "\n",
      "Validation RMSE (on log-transformed values): 0.1448\n"
     ]
    }
   ],
   "source": [
    "from sklearn.ensemble import RandomForestRegressor\n",
    "from sklearn.metrics import mean_squared_error\n",
    "\n",
    "rf_baseline = RandomForestRegressor(random_state=42, n_jobs=1)\n",
    "\n",
    "print(\"Training the baseline Random Forest model...\")\n",
    "rf_baseline.fit(X_train, y_train)\n",
    "print(\"Model training complete!\")\n",
    "y_pred_log = rf_baseline.predict(X_test)\n",
    "rmse = np.sqrt(mean_squared_error(y_test, y_pred_log))\n",
    "\n",
    "print(f\"\\nValidation RMSE (on log-transformed values): {rmse:.4f}\")"
   ]
  },
  {
   "cell_type": "markdown",
   "id": "13c8e7a5",
   "metadata": {},
   "source": [
    "I am visualizing the feature importances from the baseline model to understand which features are most influential."
   ]
  },
  {
   "cell_type": "code",
   "execution_count": 31,
   "id": "61192db5",
   "metadata": {},
   "outputs": [
    {
     "data": {
      "image/png": "[encoded data removed]",
      "text/plain": [
       "<Figure size 1200x800 with 1 Axes>"
      ]
     },
     "metadata": {},
     "output_type": "display_data"
    }
   ],
   "source": [
    "import seaborn as sns\n",
    "import matplotlib.pyplot as plt\n",
    "\n",
    "importances = rf_baseline.feature_importances_\n",
    "feature_names = X_train.columns\n",
    "\n",
    "feature_importance_df = pd.DataFrame({'Feature': feature_names, 'Importance': importances})\n",
    "\n",
    "feature_importance_df = feature_importance_df.sort_values(by='Importance', ascending=False)\n",
    "\n",
    "plt.figure(figsize=(12, 8))\n",
    "sns.barplot(x='Importance', y='Feature', data=feature_importance_df.head(20), \n",
    "            hue='Feature', palette='viridis', dodge=False, legend=False)\n",
    "plt.title('Top 20 Most Important Features (Baseline Model)')\n",
    "plt.xlabel('Importance Score')\n",
    "plt.ylabel('Feature')\n",
    "plt.show()\n"
   ]
  },
  {
   "cell_type": "markdown",
   "id": "88754949",
   "metadata": {},
   "source": [
    "I am performing hyperparameter tuning on the Random Forest model using GridSearchCV to optimize its performance."
   ]
  },
  {
   "cell_type": "markdown",
   "id": "27448534",
   "metadata": {},
   "source": [
    "### My Analysis of the Baseline Model's Feature Importance\n",
    "\n",
    "After training my baseline `RandomForestRegressor` and achieving an initial RMSE of **0.1448**, I analyzed the model's feature importances to understand what drives its predictions. This analysis gave me several critical insights:\n",
    "\n",
    "*   **Validation of Domain Knowledge:** The model correctly identified `OverallQual` (the overall quality and finish of the house) as the single most important feature. This aligned perfectly with my real-world understanding that higher-quality houses command higher prices.\n",
    "\n",
    "*   **Success of My Feature Engineering:** The most encouraging result was the high importance of `TotalSF` (Total Square Footage), a feature I engineered by combining basement and above-ground living areas. Its position as the second most important feature is a strong validation of my feature engineering strategy. It confirmed that providing the model with a single, comprehensive size metric was highly effective.\n",
    "\n",
    "*   **Key Value Drivers Identified:** The top features painted a clear picture of what determines a house's value in this dataset. I found that the primary drivers are:\n",
    "    1.  **Overall Quality** (`OverallQual`)\n",
    "    2.  **Total Size** (`TotalSF`)\n",
    "    3.  **Age and Remodeling** (`HouseAge`, `AgeSinceRemod`)\n",
    "    4.  **Garage and Bathroom Count** (`GarageCars`, `TotalBathrooms`)\n",
    "\n",
    "This analysis not only confirmed that my model is learning sensible patterns but also proved that my feature engineering efforts have added significant value. I now have a solid foundation and a clear benchmark to improve upon.\n",
    "\n",
    "### Next Step: Hyperparameter Tuning with GridSearchCV\n",
    "\n",
    "Now that I have a solid baseline model and an RMSE of **0.1448**, my next step is to improve its performance through hyperparameter tuning. I will use `GridSearchCV` to systematically search for the best combination of settings for my `RandomForestRegressor`. This process will use cross-validation to find a more robust and optimized model, with the goal of lowering the RMSE score.\n"
   ]
  },
  {
   "cell_type": "code",
   "execution_count": null,
   "id": "89bf0ebf",
   "metadata": {},
   "outputs": [
    {
     "name": "stdout",
     "output_type": "stream",
     "text": [
      "Starting GridSearchCV... (This may take a few minutes)\n",
      "Fitting 3 folds for each of 24 candidates, totalling 72 fits\n",
      "[CV] END max_depth=10, min_samples_leaf=1, min_samples_split=5, n_estimators=200; total time=   3.3s\n",
      "[CV] END max_depth=10, min_samples_leaf=1, min_samples_split=5, n_estimators=200; total time=   3.4s\n",
      "[CV] END max_depth=10, min_samples_leaf=1, min_samples_split=2, n_estimators=200; total time=   3.6s\n",
      "[CV] END max_depth=10, min_samples_leaf=1, min_samples_split=2, n_estimators=200; total time=   3.9s\n",
      "[CV] END max_depth=10, min_samples_leaf=1, min_samples_split=2, n_estimators=200; total time=   3.9s\n",
      "[CV] END max_depth=10, min_samples_leaf=1, min_samples_split=2, n_estimators=300; total time=   5.5s\n",
      "[CV] END max_depth=10, min_samples_leaf=1, min_samples_split=2, n_estimators=300; total time=   5.8s\n",
      "[CV] END max_depth=10, min_samples_leaf=1, min_samples_split=2, n_estimators=300; total time=   5.8s\n",
      "[CV] END max_depth=10, min_samples_leaf=1, min_samples_split=5, n_estimators=200; total time=   3.0s\n",
      "[CV] END max_depth=10, min_samples_leaf=2, min_samples_split=2, n_estimators=200; total time=   3.0s\n",
      "[CV] END max_depth=10, min_samples_leaf=1, min_samples_split=5, n_estimators=300; total time=   4.4s\n",
      "[CV] END max_depth=10, min_samples_leaf=1, min_samples_split=5, n_estimators=300; total time=   4.2s\n",
      "[CV] END max_depth=10, min_samples_leaf=2, min_samples_split=2, n_estimators=200; total time=   2.7s\n",
      "[CV] END max_depth=10, min_samples_leaf=1, min_samples_split=5, n_estimators=300; total time=   4.4s\n",
      "[CV] END max_depth=10, min_samples_leaf=2, min_samples_split=2, n_estimators=200; total time=   2.7s\n",
      "[CV] END max_depth=10, min_samples_leaf=2, min_samples_split=2, n_estimators=300; total time=   4.1s\n",
      "[CV] END max_depth=10, min_samples_leaf=2, min_samples_split=2, n_estimators=300; total time=   4.0s\n",
      "[CV] END max_depth=10, min_samples_leaf=2, min_samples_split=5, n_estimators=200; total time=   2.6s\n",
      "[CV] END max_depth=10, min_samples_leaf=2, min_samples_split=5, n_estimators=200; total time=   2.7s\n",
      "[CV] END max_depth=10, min_samples_leaf=2, min_samples_split=5, n_estimators=200; total time=   2.6s\n",
      "[CV] END max_depth=10, min_samples_leaf=2, min_samples_split=2, n_estimators=300; total time=   4.2s\n",
      "[CV] END max_depth=10, min_samples_leaf=2, min_samples_split=5, n_estimators=300; total time=   3.9s\n",
      "[CV] END max_depth=10, min_samples_leaf=2, min_samples_split=5, n_estimators=300; total time=   3.9s\n",
      "[CV] END max_depth=10, min_samples_leaf=2, min_samples_split=5, n_estimators=300; total time=   3.6s\n",
      "[CV] END max_depth=20, min_samples_leaf=1, min_samples_split=2, n_estimators=200; total time=   3.7s\n",
      "[CV] END max_depth=20, min_samples_leaf=1, min_samples_split=2, n_estimators=200; total time=   3.7s\n",
      "[CV] END max_depth=20, min_samples_leaf=1, min_samples_split=2, n_estimators=200; total time=   3.7s\n",
      "[CV] END max_depth=20, min_samples_leaf=1, min_samples_split=5, n_estimators=200; total time=   3.0s\n",
      "[CV] END max_depth=20, min_samples_leaf=1, min_samples_split=5, n_estimators=200; total time=   3.1s\n",
      "[CV] END max_depth=20, min_samples_leaf=1, min_samples_split=2, n_estimators=300; total time=   5.7s\n",
      "[CV] END max_depth=20, min_samples_leaf=1, min_samples_split=2, n_estimators=300; total time=   5.8s\n",
      "[CV] END max_depth=20, min_samples_leaf=1, min_samples_split=5, n_estimators=200; total time=   3.1s\n",
      "[CV] END max_depth=20, min_samples_leaf=1, min_samples_split=2, n_estimators=300; total time=   5.9s\n",
      "[CV] END max_depth=20, min_samples_leaf=1, min_samples_split=5, n_estimators=300; total time=   4.4s\n",
      "[CV] END max_depth=20, min_samples_leaf=1, min_samples_split=5, n_estimators=300; total time=   4.5s\n",
      "[CV] END max_depth=20, min_samples_leaf=2, min_samples_split=2, n_estimators=200; total time=   2.8s\n",
      "[CV] END max_depth=20, min_samples_leaf=2, min_samples_split=2, n_estimators=200; total time=   2.9s\n",
      "[CV] END max_depth=20, min_samples_leaf=2, min_samples_split=2, n_estimators=200; total time=   2.8s\n",
      "[CV] END max_depth=20, min_samples_leaf=1, min_samples_split=5, n_estimators=300; total time=   4.6s\n",
      "[CV] END max_depth=20, min_samples_leaf=2, min_samples_split=5, n_estimators=200; total time=   2.6s\n",
      "[CV] END max_depth=20, min_samples_leaf=2, min_samples_split=2, n_estimators=300; total time=   4.3s\n",
      "[CV] END max_depth=20, min_samples_leaf=2, min_samples_split=5, n_estimators=200; total time=   2.5s\n",
      "[CV] END max_depth=20, min_samples_leaf=2, min_samples_split=5, n_estimators=200; total time=   2.7s\n",
      "[CV] END max_depth=20, min_samples_leaf=2, min_samples_split=2, n_estimators=300; total time=   4.4s\n",
      "[CV] END max_depth=20, min_samples_leaf=2, min_samples_split=2, n_estimators=300; total time=   4.2s\n",
      "[CV] END max_depth=20, min_samples_leaf=2, min_samples_split=5, n_estimators=300; total time=   4.2s\n",
      "[CV] END max_depth=20, min_samples_leaf=2, min_samples_split=5, n_estimators=300; total time=   4.0s\n",
      "[CV] END max_depth=20, min_samples_leaf=2, min_samples_split=5, n_estimators=300; total time=   4.0s\n",
      "[CV] END max_depth=None, min_samples_leaf=1, min_samples_split=2, n_estimators=200; total time=   3.8s\n",
      "[CV] END max_depth=None, min_samples_leaf=1, min_samples_split=2, n_estimators=200; total time=   3.6s\n",
      "[CV] END max_depth=None, min_samples_leaf=1, min_samples_split=2, n_estimators=200; total time=   4.1s\n",
      "[CV] END max_depth=None, min_samples_leaf=1, min_samples_split=5, n_estimators=200; total time=   3.3s\n",
      "[CV] END max_depth=None, min_samples_leaf=1, min_samples_split=5, n_estimators=200; total time=   3.0s\n",
      "[CV] END max_depth=None, min_samples_leaf=1, min_samples_split=5, n_estimators=200; total time=   3.1s\n",
      "[CV] END max_depth=None, min_samples_leaf=1, min_samples_split=2, n_estimators=300; total time=   5.7s\n",
      "[CV] END max_depth=None, min_samples_leaf=1, min_samples_split=2, n_estimators=300; total time=   6.0s\n",
      "[CV] END max_depth=None, min_samples_leaf=1, min_samples_split=2, n_estimators=300; total time=   5.8s\n",
      "[CV] END max_depth=None, min_samples_leaf=1, min_samples_split=5, n_estimators=300; total time=   4.6s\n",
      "[CV] END max_depth=None, min_samples_leaf=1, min_samples_split=5, n_estimators=300; total time=   4.5s\n",
      "[CV] END max_depth=None, min_samples_leaf=2, min_samples_split=2, n_estimators=200; total time=   2.9s\n",
      "[CV] END max_depth=None, min_samples_leaf=2, min_samples_split=2, n_estimators=200; total time=   2.8s\n",
      "[CV] END max_depth=None, min_samples_leaf=2, min_samples_split=2, n_estimators=200; total time=   2.9s\n",
      "[CV] END max_depth=None, min_samples_leaf=1, min_samples_split=5, n_estimators=300; total time=   4.7s\n",
      "[CV] END max_depth=None, min_samples_leaf=2, min_samples_split=2, n_estimators=300; total time=   4.4s\n",
      "[CV] END max_depth=None, min_samples_leaf=2, min_samples_split=5, n_estimators=200; total time=   2.7s\n",
      "[CV] END max_depth=None, min_samples_leaf=2, min_samples_split=2, n_estimators=300; total time=   4.1s\n",
      "[CV] END max_depth=None, min_samples_leaf=2, min_samples_split=5, n_estimators=200; total time=   2.8s\n",
      "[CV] END max_depth=None, min_samples_leaf=2, min_samples_split=5, n_estimators=200; total time=   2.7s\n",
      "[CV] END max_depth=None, min_samples_leaf=2, min_samples_split=2, n_estimators=300; total time=   4.1s\n",
      "[CV] END max_depth=None, min_samples_leaf=2, min_samples_split=5, n_estimators=300; total time=   3.8s\n",
      "[CV] END max_depth=None, min_samples_leaf=2, min_samples_split=5, n_estimators=300; total time=   3.7s\n",
      "[CV] END max_depth=None, min_samples_leaf=2, min_samples_split=5, n_estimators=300; total time=   3.3s\n",
      "GridSearchCV complete!\n",
      "\n",
      "Best hyperparameters found: {'max_depth': 20, 'min_samples_leaf': 1, 'min_samples_split': 2, 'n_estimators': 300}\n",
      "\n",
      "Baseline Validation RMSE: 0.1448\n",
      "Tuned Validation RMSE:    0.1466\n"
     ]
    }
   ],
   "source": [
    "from sklearn.model_selection import GridSearchCV\n",
    "# hyperparameters for a RandomForestRegressor.\n",
    "param_grid = {\n",
    "    'n_estimators': [200, 300],      # Number of trees in the forest\n",
    "    'max_depth': [10, 20, None],     # Maximum depth of the trees\n",
    "    'min_samples_split': [2, 5],     # Minimum samples required to split a node\n",
    "    'min_samples_leaf': [1, 2]       # Minimum samples required at a leaf node\n",
    "}\n",
    "\n",
    "grid_search = GridSearchCV(estimator=rf_baseline, param_grid=param_grid, \n",
    "                           cv=3, n_jobs=-1, verbose=2, scoring='neg_mean_squared_error')\n",
    "print(\"Starting GridSearchCV... (This may take a few minutes)\")\n",
    "grid_search.fit(X_train, y_train)\n",
    "print(\"GridSearchCV complete!\")\n",
    "best_rf_model = grid_search.best_estimator_\n",
    "print(f\"\\nBest hyperparameters found: {grid_search.best_params_}\")\n",
    "\n",
    "y_pred_tuned = best_rf_model.predict(X_test)\n",
    "\n",
    "# Evaluate the tuned model's performance\n",
    "rmse_tuned = np.sqrt(mean_squared_error(y_test, y_pred_tuned))\n",
    "\n",
    "print(f\"\\nBaseline Validation RMSE: 0.1448\")\n",
    "print(f\"Tuned Validation RMSE:    {rmse_tuned:.4f}\")\n"
   ]
  },
  {
   "cell_type": "markdown",
   "id": "690cfc7e",
   "metadata": {},
   "source": [
    "I am training a baseline XGBoost model to compare its performance with the Random Forest."
   ]
  },
  {
   "cell_type": "markdown",
   "id": "b1ea7b46",
   "metadata": {},
   "source": [
    "### Experiment: Hyperparameter Tuning with GridSearchCV\n",
    "\n",
    "After establishing a baseline RMSE of **0.1448**, I used `GridSearchCV` to find more optimal hyperparameters for the `RandomForestRegressor`. The search explored various combinations of `n_estimators`, `max_depth`, `min_samples_split`, and `min_samples_leaf`.\n",
    "\n",
    "The best-performing model from the grid search resulted in a validation RMSE of **0.1466**. This score was slightly higher than the baseline, which is a valuable insight. It suggests that the default hyperparameters for the Random Forest model were already highly effective for this dataset and that we have likely reached the peak performance for this particular model architecture. This finding allows me to conclude this line of optimization and focus on exploring different modeling techniques."
   ]
  },
  {
   "cell_type": "markdown",
   "id": "9c8c481b",
   "metadata": {},
   "source": [
    "### Experiment: Training a Baseline XGBoost Model\n",
    "\n",
    "Given that hyperparameter tuning did not yield significant improvements for the Random Forest model, I concluded that I had likely reached its performance limit for this dataset. The next logical step was to explore a different, more powerful algorithm.\n",
    "\n",
    "I chose to implement an **XGBoost (Extreme Gradient Boosting)** regressor. I will start by training a baseline version with common default parameters. My goal is to see if this more advanced model can immediately achieve a lower RMSE than my Random Forest baseline, which would validate it as a more promising architecture for this problem.\n",
    "\n",
    "**Note on Environment Setup:** To get XGBoost running on my macOS system, I had to resolve a library dependency issue. The library required OpenMP, which I installed directly into my conda environment using the command: `conda install -c conda-forge llvm-openmp`.\n"
   ]
  },
  {
   "cell_type": "code",
   "execution_count": 33,
   "id": "b235c9e7",
   "metadata": {},
   "outputs": [
    {
     "name": "stdout",
     "output_type": "stream",
     "text": [
      "Training the baseline XGBoost model...\n",
      "Model training complete!\n",
      "\n",
      "Random Forest Tuned RMSE: 0.1466\n",
      "Baseline XGBoost Model RMSE: 0.1422\n"
     ]
    }
   ],
   "source": [
    "import xgboost as xgb\n",
    "\n",
    "xgb_model = xgb.XGBRegressor(n_estimators=1000, learning_rate=0.05, random_state=42, n_jobs=-1)\n",
    "print(\"Training the baseline XGBoost model...\")\n",
    "xgb_model.fit(X_train, y_train)\n",
    "print(\"Model training complete!\")\n",
    "\n",
    "y_pred_xgb = xgb_model.predict(X_test)\n",
    "\n",
    "rmse_xgb = np.sqrt(mean_squared_error(y_test, y_pred_xgb))\n",
    "\n",
    "print(f\"\\nRandom Forest Tuned RMSE: 0.1466\")\n",
    "print(f\"Baseline XGBoost Model RMSE: {rmse_xgb:.4f}\")"
   ]
  },
  {
   "cell_type": "markdown",
   "id": "00ca882f",
   "metadata": {},
   "source": [
    "### Experiment: Hyperparameter Tuning for XGBoost\n",
    "\n",
    "The baseline XGBoost model achieved an RMSE of **0.1422**, which was a significant improvement over the best-tuned Random Forest model's score of **0.1466**. This result validated my hypothesis that a more advanced boosting algorithm would be a better fit for this dataset.\n",
    "\n",
    "The next logical step is to perform hyperparameter tuning on the XGBoost model itself. I will use `GridSearchCV` to systematically search for the optimal combination of parameters, with the goal of further reducing the RMSE and building the most accurate model possible.\n"
   ]
  },
  {
   "cell_type": "code",
   "execution_count": 34,
   "id": "dc21952e",
   "metadata": {},
   "outputs": [
    {
     "name": "stdout",
     "output_type": "stream",
     "text": [
      "Fitting 3 folds for each of 48 candidates, totalling 144 fits\n",
      "[CV] END colsample_bytree=0.8, learning_rate=0.05, max_depth=3, n_estimators=500, subsample=0.8; total time=   0.7s\n",
      "[CV] END colsample_bytree=0.8, learning_rate=0.05, max_depth=3, n_estimators=500, subsample=0.8; total time=   0.8s\n",
      "[CV] END colsample_bytree=0.8, learning_rate=0.05, max_depth=3, n_estimators=500, subsample=1.0; total time=   0.8s\n",
      "[CV] END colsample_bytree=0.8, learning_rate=0.05, max_depth=3, n_estimators=500, subsample=0.8; total time=   0.8s\n",
      "[CV] END colsample_bytree=0.8, learning_rate=0.05, max_depth=3, n_estimators=500, subsample=1.0; total time=   0.8s\n",
      "[CV] END colsample_bytree=0.8, learning_rate=0.05, max_depth=3, n_estimators=500, subsample=1.0; total time=   0.8s\n",
      "[CV] END colsample_bytree=0.8, learning_rate=0.05, max_depth=3, n_estimators=1000, subsample=0.8; total time=   1.4s\n",
      "[CV] END colsample_bytree=0.8, learning_rate=0.05, max_depth=3, n_estimators=1000, subsample=0.8; total time=   1.4s\n",
      "[CV] END colsample_bytree=0.8, learning_rate=0.05, max_depth=5, n_estimators=500, subsample=0.8; total time=   1.2s\n",
      "[CV] END colsample_bytree=0.8, learning_rate=0.05, max_depth=3, n_estimators=1000, subsample=1.0; total time=   1.2s\n",
      "[CV] END colsample_bytree=0.8, learning_rate=0.05, max_depth=3, n_estimators=1000, subsample=1.0; total time=   1.3s\n",
      "[CV] END colsample_bytree=0.8, learning_rate=0.05, max_depth=5, n_estimators=500, subsample=0.8; total time=   1.2s\n",
      "[CV] END colsample_bytree=0.8, learning_rate=0.05, max_depth=3, n_estimators=1000, subsample=1.0; total time=   1.3s\n",
      "[CV] END colsample_bytree=0.8, learning_rate=0.05, max_depth=3, n_estimators=1000, subsample=0.8; total time=   1.3s\n",
      "[CV] END colsample_bytree=0.8, learning_rate=0.05, max_depth=5, n_estimators=500, subsample=1.0; total time=   1.1s\n",
      "[CV] END colsample_bytree=0.8, learning_rate=0.05, max_depth=5, n_estimators=500, subsample=0.8; total time=   1.3s\n",
      "[CV] END colsample_bytree=0.8, learning_rate=0.05, max_depth=5, n_estimators=500, subsample=1.0; total time=   1.0s\n",
      "[CV] END colsample_bytree=0.8, learning_rate=0.05, max_depth=5, n_estimators=500, subsample=1.0; total time=   1.1s\n",
      "[CV] END colsample_bytree=0.8, learning_rate=0.05, max_depth=5, n_estimators=1000, subsample=1.0; total time=   2.0s\n",
      "[CV] END colsample_bytree=0.8, learning_rate=0.05, max_depth=5, n_estimators=1000, subsample=0.8; total time=   2.2s\n",
      "[CV] END colsample_bytree=0.8, learning_rate=0.05, max_depth=5, n_estimators=1000, subsample=0.8; total time=   2.2s\n",
      "[CV] END colsample_bytree=0.8, learning_rate=0.05, max_depth=5, n_estimators=1000, subsample=0.8; total time=   2.2s\n",
      "[CV] END colsample_bytree=0.8, learning_rate=0.05, max_depth=5, n_estimators=1000, subsample=1.0; total time=   2.1s\n",
      "[CV] END colsample_bytree=0.8, learning_rate=0.05, max_depth=5, n_estimators=1000, subsample=1.0; total time=   2.1s\n",
      "[CV] END colsample_bytree=0.8, learning_rate=0.05, max_depth=7, n_estimators=500, subsample=0.8; total time=   2.0s\n",
      "[CV] END colsample_bytree=0.8, learning_rate=0.05, max_depth=7, n_estimators=500, subsample=0.8; total time=   2.1s\n",
      "[CV] END colsample_bytree=0.8, learning_rate=0.05, max_depth=7, n_estimators=500, subsample=0.8; total time=   2.0s\n",
      "[CV] END colsample_bytree=0.8, learning_rate=0.05, max_depth=7, n_estimators=500, subsample=1.0; total time=   2.0s\n",
      "[CV] END colsample_bytree=0.8, learning_rate=0.05, max_depth=7, n_estimators=500, subsample=1.0; total time=   2.0s\n",
      "[CV] END colsample_bytree=0.8, learning_rate=0.05, max_depth=7, n_estimators=500, subsample=1.0; total time=   2.1s\n",
      "[CV] END colsample_bytree=0.8, learning_rate=0.1, max_depth=3, n_estimators=500, subsample=0.8; total time=   0.7s\n",
      "[CV] END colsample_bytree=0.8, learning_rate=0.1, max_depth=3, n_estimators=500, subsample=0.8; total time=   0.8s\n",
      "[CV] END colsample_bytree=0.8, learning_rate=0.05, max_depth=7, n_estimators=1000, subsample=0.8; total time=   2.8s\n",
      "[CV] END colsample_bytree=0.8, learning_rate=0.05, max_depth=7, n_estimators=1000, subsample=0.8; total time=   2.9s\n",
      "[CV] END colsample_bytree=0.8, learning_rate=0.1, max_depth=3, n_estimators=500, subsample=1.0; total time=   0.6s\n",
      "[CV] END colsample_bytree=0.8, learning_rate=0.1, max_depth=3, n_estimators=500, subsample=0.8; total time=   0.7s\n",
      "[CV] END colsample_bytree=0.8, learning_rate=0.05, max_depth=7, n_estimators=1000, subsample=1.0; total time=   2.7s\n",
      "[CV] END colsample_bytree=0.8, learning_rate=0.05, max_depth=7, n_estimators=1000, subsample=0.8; total time=   2.8s\n",
      "[CV] END colsample_bytree=0.8, learning_rate=0.1, max_depth=3, n_estimators=500, subsample=1.0; total time=   0.7s\n",
      "[CV] END colsample_bytree=0.8, learning_rate=0.1, max_depth=3, n_estimators=500, subsample=1.0; total time=   0.7s\n",
      "[CV] END colsample_bytree=0.8, learning_rate=0.05, max_depth=7, n_estimators=1000, subsample=1.0; total time=   2.4s\n",
      "[CV] END colsample_bytree=0.8, learning_rate=0.05, max_depth=7, n_estimators=1000, subsample=1.0; total time=   2.5s\n",
      "[CV] END colsample_bytree=0.8, learning_rate=0.1, max_depth=3, n_estimators=1000, subsample=0.8; total time=   1.3s\n",
      "[CV] END colsample_bytree=0.8, learning_rate=0.1, max_depth=3, n_estimators=1000, subsample=0.8; total time=   1.2s\n",
      "[CV] END colsample_bytree=0.8, learning_rate=0.1, max_depth=3, n_estimators=1000, subsample=0.8; total time=   1.2s\n",
      "[CV] END colsample_bytree=0.8, learning_rate=0.1, max_depth=3, n_estimators=1000, subsample=1.0; total time=   1.2s\n",
      "[CV] END colsample_bytree=0.8, learning_rate=0.1, max_depth=3, n_estimators=1000, subsample=1.0; total time=   1.2s\n",
      "[CV] END colsample_bytree=0.8, learning_rate=0.1, max_depth=3, n_estimators=1000, subsample=1.0; total time=   1.3s\n",
      "[CV] END colsample_bytree=0.8, learning_rate=0.1, max_depth=5, n_estimators=500, subsample=0.8; total time=   1.1s\n",
      "[CV] END colsample_bytree=0.8, learning_rate=0.1, max_depth=5, n_estimators=500, subsample=0.8; total time=   1.1s\n",
      "[CV] END colsample_bytree=0.8, learning_rate=0.1, max_depth=5, n_estimators=500, subsample=1.0; total time=   1.0s\n",
      "[CV] END colsample_bytree=0.8, learning_rate=0.1, max_depth=5, n_estimators=500, subsample=1.0; total time=   1.1s\n",
      "[CV] END colsample_bytree=0.8, learning_rate=0.1, max_depth=5, n_estimators=500, subsample=0.8; total time=   1.2s\n",
      "[CV] END colsample_bytree=0.8, learning_rate=0.1, max_depth=5, n_estimators=500, subsample=1.0; total time=   1.1s\n",
      "[CV] END colsample_bytree=0.8, learning_rate=0.1, max_depth=5, n_estimators=1000, subsample=0.8; total time=   1.9s\n",
      "[CV] END colsample_bytree=0.8, learning_rate=0.1, max_depth=5, n_estimators=1000, subsample=0.8; total time=   1.8s\n",
      "[CV] END colsample_bytree=0.8, learning_rate=0.1, max_depth=5, n_estimators=1000, subsample=0.8; total time=   1.8s\n",
      "[CV] END colsample_bytree=0.8, learning_rate=0.1, max_depth=5, n_estimators=1000, subsample=1.0; total time=   1.7s\n",
      "[CV] END colsample_bytree=0.8, learning_rate=0.1, max_depth=7, n_estimators=500, subsample=0.8; total time=   1.5s\n",
      "[CV] END colsample_bytree=0.8, learning_rate=0.1, max_depth=7, n_estimators=500, subsample=0.8; total time=   1.5s\n",
      "[CV] END colsample_bytree=0.8, learning_rate=0.1, max_depth=5, n_estimators=1000, subsample=1.0; total time=   1.7s\n",
      "[CV] END colsample_bytree=0.8, learning_rate=0.1, max_depth=5, n_estimators=1000, subsample=1.0; total time=   1.8s\n",
      "[CV] END colsample_bytree=0.8, learning_rate=0.1, max_depth=7, n_estimators=500, subsample=0.8; total time=   1.3s\n",
      "[CV] END colsample_bytree=0.8, learning_rate=0.1, max_depth=7, n_estimators=500, subsample=1.0; total time=   1.3s\n",
      "[CV] END colsample_bytree=0.8, learning_rate=0.1, max_depth=7, n_estimators=500, subsample=1.0; total time=   1.3s\n",
      "[CV] END colsample_bytree=0.8, learning_rate=0.1, max_depth=7, n_estimators=500, subsample=1.0; total time=   1.4s\n",
      "[CV] END colsample_bytree=0.8, learning_rate=0.1, max_depth=7, n_estimators=1000, subsample=0.8; total time=   1.7s\n",
      "[CV] END colsample_bytree=1.0, learning_rate=0.05, max_depth=3, n_estimators=500, subsample=0.8; total time=   0.8s\n",
      "[CV] END colsample_bytree=0.8, learning_rate=0.1, max_depth=7, n_estimators=1000, subsample=1.0; total time=   1.7s\n",
      "[CV] END colsample_bytree=1.0, learning_rate=0.05, max_depth=3, n_estimators=500, subsample=0.8; total time=   0.8s\n",
      "[CV] END colsample_bytree=0.8, learning_rate=0.1, max_depth=7, n_estimators=1000, subsample=0.8; total time=   2.0s\n",
      "[CV] END colsample_bytree=0.8, learning_rate=0.1, max_depth=7, n_estimators=1000, subsample=0.8; total time=   2.1s\n",
      "[CV] END colsample_bytree=0.8, learning_rate=0.1, max_depth=7, n_estimators=1000, subsample=1.0; total time=   1.5s\n",
      "[CV] END colsample_bytree=1.0, learning_rate=0.05, max_depth=3, n_estimators=500, subsample=0.8; total time=   0.7s\n",
      "[CV] END colsample_bytree=1.0, learning_rate=0.05, max_depth=3, n_estimators=500, subsample=1.0; total time=   0.7s\n",
      "[CV] END colsample_bytree=0.8, learning_rate=0.1, max_depth=7, n_estimators=1000, subsample=1.0; total time=   1.7s\n",
      "[CV] END colsample_bytree=1.0, learning_rate=0.05, max_depth=3, n_estimators=500, subsample=1.0; total time=   0.7s\n",
      "[CV] END colsample_bytree=1.0, learning_rate=0.05, max_depth=3, n_estimators=500, subsample=1.0; total time=   0.9s\n",
      "[CV] END colsample_bytree=1.0, learning_rate=0.05, max_depth=3, n_estimators=1000, subsample=0.8; total time=   1.2s\n",
      "[CV] END colsample_bytree=1.0, learning_rate=0.05, max_depth=3, n_estimators=1000, subsample=0.8; total time=   1.3s\n",
      "[CV] END colsample_bytree=1.0, learning_rate=0.05, max_depth=3, n_estimators=1000, subsample=0.8; total time=   1.3s\n",
      "[CV] END colsample_bytree=1.0, learning_rate=0.05, max_depth=3, n_estimators=1000, subsample=1.0; total time=   1.3s\n",
      "[CV] END colsample_bytree=1.0, learning_rate=0.05, max_depth=3, n_estimators=1000, subsample=1.0; total time=   1.4s\n",
      "[CV] END colsample_bytree=1.0, learning_rate=0.05, max_depth=3, n_estimators=1000, subsample=1.0; total time=   1.3s\n",
      "[CV] END colsample_bytree=1.0, learning_rate=0.05, max_depth=5, n_estimators=500, subsample=0.8; total time=   1.3s\n",
      "[CV] END colsample_bytree=1.0, learning_rate=0.05, max_depth=5, n_estimators=500, subsample=0.8; total time=   1.3s\n",
      "[CV] END colsample_bytree=1.0, learning_rate=0.05, max_depth=5, n_estimators=500, subsample=0.8; total time=   1.4s\n",
      "[CV] END colsample_bytree=1.0, learning_rate=0.05, max_depth=5, n_estimators=500, subsample=1.0; total time=   1.2s\n",
      "[CV] END colsample_bytree=1.0, learning_rate=0.05, max_depth=5, n_estimators=500, subsample=1.0; total time=   1.1s\n",
      "[CV] END colsample_bytree=1.0, learning_rate=0.05, max_depth=5, n_estimators=500, subsample=1.0; total time=   1.2s\n",
      "[CV] END colsample_bytree=1.0, learning_rate=0.05, max_depth=5, n_estimators=1000, subsample=0.8; total time=   2.4s\n",
      "[CV] END colsample_bytree=1.0, learning_rate=0.05, max_depth=5, n_estimators=1000, subsample=0.8; total time=   2.4s\n",
      "[CV] END colsample_bytree=1.0, learning_rate=0.05, max_depth=5, n_estimators=1000, subsample=1.0; total time=   2.2s\n",
      "[CV] END colsample_bytree=1.0, learning_rate=0.05, max_depth=5, n_estimators=1000, subsample=0.8; total time=   2.5s\n",
      "[CV] END colsample_bytree=1.0, learning_rate=0.05, max_depth=5, n_estimators=1000, subsample=1.0; total time=   2.1s\n",
      "[CV] END colsample_bytree=1.0, learning_rate=0.05, max_depth=5, n_estimators=1000, subsample=1.0; total time=   2.3s\n",
      "[CV] END colsample_bytree=1.0, learning_rate=0.05, max_depth=7, n_estimators=500, subsample=0.8; total time=   2.1s\n",
      "[CV] END colsample_bytree=1.0, learning_rate=0.05, max_depth=7, n_estimators=500, subsample=0.8; total time=   2.3s\n",
      "[CV] END colsample_bytree=1.0, learning_rate=0.05, max_depth=7, n_estimators=500, subsample=0.8; total time=   2.1s\n",
      "[CV] END colsample_bytree=1.0, learning_rate=0.05, max_depth=7, n_estimators=500, subsample=1.0; total time=   2.1s\n",
      "[CV] END colsample_bytree=1.0, learning_rate=0.05, max_depth=7, n_estimators=500, subsample=1.0; total time=   2.1s\n",
      "[CV] END colsample_bytree=1.0, learning_rate=0.05, max_depth=7, n_estimators=500, subsample=1.0; total time=   2.2s\n",
      "[CV] END colsample_bytree=1.0, learning_rate=0.1, max_depth=3, n_estimators=500, subsample=0.8; total time=   0.7s\n",
      "[CV] END colsample_bytree=1.0, learning_rate=0.1, max_depth=3, n_estimators=500, subsample=0.8; total time=   0.7s\n",
      "[CV] END colsample_bytree=1.0, learning_rate=0.1, max_depth=3, n_estimators=500, subsample=0.8; total time=   0.6s\n",
      "[CV] END colsample_bytree=1.0, learning_rate=0.05, max_depth=7, n_estimators=1000, subsample=0.8; total time=   3.1s\n",
      "[CV] END colsample_bytree=1.0, learning_rate=0.05, max_depth=7, n_estimators=1000, subsample=1.0; total time=   2.7s\n",
      "[CV] END colsample_bytree=1.0, learning_rate=0.05, max_depth=7, n_estimators=1000, subsample=0.8; total time=   3.1s\n",
      "[CV] END colsample_bytree=1.0, learning_rate=0.1, max_depth=3, n_estimators=500, subsample=1.0; total time=   0.7s\n",
      "[CV] END colsample_bytree=1.0, learning_rate=0.05, max_depth=7, n_estimators=1000, subsample=0.8; total time=   3.1s\n",
      "[CV] END colsample_bytree=1.0, learning_rate=0.1, max_depth=3, n_estimators=500, subsample=1.0; total time=   0.7s\n",
      "[CV] END colsample_bytree=1.0, learning_rate=0.1, max_depth=3, n_estimators=500, subsample=1.0; total time=   0.7s\n",
      "[CV] END colsample_bytree=1.0, learning_rate=0.05, max_depth=7, n_estimators=1000, subsample=1.0; total time=   2.6s\n",
      "[CV] END colsample_bytree=1.0, learning_rate=0.05, max_depth=7, n_estimators=1000, subsample=1.0; total time=   2.7s\n",
      "[CV] END colsample_bytree=1.0, learning_rate=0.1, max_depth=3, n_estimators=1000, subsample=0.8; total time=   1.3s\n",
      "[CV] END colsample_bytree=1.0, learning_rate=0.1, max_depth=3, n_estimators=1000, subsample=0.8; total time=   1.3s\n",
      "[CV] END colsample_bytree=1.0, learning_rate=0.1, max_depth=3, n_estimators=1000, subsample=1.0; total time=   1.3s\n",
      "[CV] END colsample_bytree=1.0, learning_rate=0.1, max_depth=3, n_estimators=1000, subsample=0.8; total time=   1.5s\n",
      "[CV] END colsample_bytree=1.0, learning_rate=0.1, max_depth=3, n_estimators=1000, subsample=1.0; total time=   1.3s\n",
      "[CV] END colsample_bytree=1.0, learning_rate=0.1, max_depth=3, n_estimators=1000, subsample=1.0; total time=   1.2s\n",
      "[CV] END colsample_bytree=1.0, learning_rate=0.1, max_depth=5, n_estimators=500, subsample=0.8; total time=   1.2s\n",
      "[CV] END colsample_bytree=1.0, learning_rate=0.1, max_depth=5, n_estimators=500, subsample=0.8; total time=   1.3s\n",
      "[CV] END colsample_bytree=1.0, learning_rate=0.1, max_depth=5, n_estimators=500, subsample=0.8; total time=   1.3s\n",
      "[CV] END colsample_bytree=1.0, learning_rate=0.1, max_depth=5, n_estimators=500, subsample=1.0; total time=   1.2s\n",
      "[CV] END colsample_bytree=1.0, learning_rate=0.1, max_depth=5, n_estimators=500, subsample=1.0; total time=   1.1s\n",
      "[CV] END colsample_bytree=1.0, learning_rate=0.1, max_depth=5, n_estimators=500, subsample=1.0; total time=   1.2s\n",
      "[CV] END colsample_bytree=1.0, learning_rate=0.1, max_depth=5, n_estimators=1000, subsample=0.8; total time=   1.8s\n",
      "[CV] END colsample_bytree=1.0, learning_rate=0.1, max_depth=5, n_estimators=1000, subsample=0.8; total time=   2.0s\n",
      "[CV] END colsample_bytree=1.0, learning_rate=0.1, max_depth=5, n_estimators=1000, subsample=0.8; total time=   2.1s\n",
      "[CV] END colsample_bytree=1.0, learning_rate=0.1, max_depth=5, n_estimators=1000, subsample=1.0; total time=   1.9s\n",
      "[CV] END colsample_bytree=1.0, learning_rate=0.1, max_depth=7, n_estimators=500, subsample=0.8; total time=   1.7s\n",
      "[CV] END colsample_bytree=1.0, learning_rate=0.1, max_depth=7, n_estimators=500, subsample=0.8; total time=   1.7s\n",
      "[CV] END colsample_bytree=1.0, learning_rate=0.1, max_depth=5, n_estimators=1000, subsample=1.0; total time=   2.0s\n",
      "[CV] END colsample_bytree=1.0, learning_rate=0.1, max_depth=5, n_estimators=1000, subsample=1.0; total time=   2.0s\n",
      "[CV] END colsample_bytree=1.0, learning_rate=0.1, max_depth=7, n_estimators=500, subsample=1.0; total time=   1.4s\n",
      "[CV] END colsample_bytree=1.0, learning_rate=0.1, max_depth=7, n_estimators=500, subsample=0.8; total time=   1.7s\n",
      "[CV] END colsample_bytree=1.0, learning_rate=0.1, max_depth=7, n_estimators=500, subsample=1.0; total time=   1.4s\n",
      "[CV] END colsample_bytree=1.0, learning_rate=0.1, max_depth=7, n_estimators=500, subsample=1.0; total time=   1.5s\n",
      "[CV] END colsample_bytree=1.0, learning_rate=0.1, max_depth=7, n_estimators=1000, subsample=0.8; total time=   1.9s\n",
      "[CV] END colsample_bytree=1.0, learning_rate=0.1, max_depth=7, n_estimators=1000, subsample=0.8; total time=   1.9s\n",
      "[CV] END colsample_bytree=1.0, learning_rate=0.1, max_depth=7, n_estimators=1000, subsample=1.0; total time=   1.7s\n",
      "[CV] END colsample_bytree=1.0, learning_rate=0.1, max_depth=7, n_estimators=1000, subsample=0.8; total time=   2.0s\n",
      "[CV] END colsample_bytree=1.0, learning_rate=0.1, max_depth=7, n_estimators=1000, subsample=1.0; total time=   1.5s\n",
      "[CV] END colsample_bytree=1.0, learning_rate=0.1, max_depth=7, n_estimators=1000, subsample=1.0; total time=   1.4s\n",
      "\n",
      "Best XGBoost hyperparameters found: {'colsample_bytree': 0.8, 'learning_rate': 0.05, 'max_depth': 3, 'n_estimators': 1000, 'subsample': 0.8}\n",
      "\n",
      "Baseline XGBoost RMSE: 0.1422\n",
      "Tuned XGBoost RMSE:    0.1259\n"
     ]
    }
   ],
   "source": [
    "from sklearn.pipeline import Pipeline\n",
    "\n",
    "param_grid_xgb = {\n",
    "    'n_estimators': [500, 1000],          # Number of boosting rounds\n",
    "    'learning_rate': [0.05, 0.1],         # Step size shrinkage\n",
    "    'max_depth': [3, 5, 7],               # Maximum depth of a tree\n",
    "    'subsample': [0.8, 1.0],              # Subsample ratio of the training instance\n",
    "    'colsample_bytree': [0.8, 1.0]        # Subsample ratio of columns when constructing each tree\n",
    "}\n",
    "\n",
    "xgb_for_tuning = xgb.XGBRegressor(random_state=42, n_jobs=-1)\n",
    "\n",
    "grid_search_xgb = GridSearchCV(estimator=xgb_for_tuning, \n",
    "                               param_grid=param_grid_xgb, \n",
    "                               cv=3, \n",
    "                               n_jobs=-1, \n",
    "                               verbose=2, \n",
    "                               scoring='neg_mean_squared_error')\n",
    "grid_search_xgb.fit(X_train, y_train)\n",
    "best_xgb_model = grid_search_xgb.best_estimator_\n",
    "print(f\"\\nBest XGBoost hyperparameters found: {grid_search_xgb.best_params_}\")\n",
    "\n",
    "y_pred_xgb_tuned = best_xgb_model.predict(X_test)\n",
    "\n",
    "# Evaluate the tuned XGBoost model's performance\n",
    "rmse_xgb_tuned = np.sqrt(mean_squared_error(y_test, y_pred_xgb_tuned))\n",
    "\n",
    "print(f\"\\nBaseline XGBoost RMSE: 0.1422\")\n",
    "print(f\"Tuned XGBoost RMSE:    {rmse_xgb_tuned:.4f}\")"
   ]
  },
  {
   "cell_type": "markdown",
   "id": "8b6f9be7",
   "metadata": {},
   "source": [
    "I am converting the predictions back to the original dollar scale and calculating the final RMSE in dollars."
   ]
  },
  {
   "cell_type": "code",
   "execution_count": 35,
   "id": "a1b68c5d",
   "metadata": {},
   "outputs": [
    {
     "name": "stdout",
     "output_type": "stream",
     "text": [
      "Tuned XGBoost RMSE (on log scale): 0.1259\n",
      "Final Validation RMSE (in Dollars): $26,363.22\n"
     ]
    }
   ],
   "source": [
    "# --- Convert Predictions Back to Original Dollar Scale ---\n",
    "# y_test contains the log-transformed actual prices from the test set\n",
    "# y_pred_xgb_tuned contains the log-transformed predicted prices\n",
    "y_test_actual = np.expm1(y_test)\n",
    "y_pred_actual = np.expm1(y_pred_xgb_tuned)\n",
    "\n",
    "# --- Calculate Final RMSE in Dollars ---\n",
    "rmse_dollars = np.sqrt(mean_squared_error(y_test_actual, y_pred_actual))\n",
    "\n",
    "print(f\"Tuned XGBoost RMSE (on log scale): {rmse_xgb_tuned:.4f}\")\n",
    "print(f\"Final Validation RMSE (in Dollars): ${rmse_dollars:,.2f}\")"
   ]
  },
  {
   "cell_type": "markdown",
   "id": "3f7ab355",
   "metadata": {},
   "source": [
    "### Final Model and Project Conclusion\n",
    "\n",
    "This project successfully developed a robust regression model to predict house sale prices in Ames, Iowa. Through a systematic process of data cleaning, feature engineering, and iterative modeling, I built and optimized a model that significantly outperformed initial baselines. The final model is a testament to a methodical process of hypothesis testing and iteration, from identifying the limitations of one model to successfully implementing and tuning a more advanced one to achieve a superior and interpretable result.\n",
    "\n",
    "**The Modeling Journey:**\n",
    "\n",
    "1.  **Data Preparation:** I began by addressing significant data quality issues, including imputing missing values in 19 columns. A key success was the intelligent imputation of `LotFrontage` using the neighborhood median. I also transformed the heavily skewed `SalePrice` target variable using a log transformation, which was critical for model stability.\n",
    "\n",
    "2.  **Feature Engineering:** I created several high-impact features, including `TotalSF`, `HouseAge`, and `TotalBathrooms`, which proved to be powerful predictors according to the model's feature importance analysis.\n",
    "\n",
    "3.  **Initial Modeling (Random Forest):** My baseline `RandomForestRegressor` achieved a solid initial RMSE of **0.1448** on the log-transformed data. However, hyperparameter tuning did not yield any improvement, indicating that I had likely reached the performance ceiling for this model architecture.\n",
    "\n",
    "4.  **Advanced Modeling (XGBoost):** Recognizing the limits of the Random Forest, I transitioned to a more powerful `XGBoost` model. The baseline XGBoost immediately outperformed the tuned Random Forest with an RMSE of **0.1422**.\n",
    "\n",
    "5.  **Final Optimization and Interpretation:** I performed a final round of hyperparameter tuning on the XGBoost model, which resulted in our best log-scale RMSE of **0.1259**. To make this result interpretable, I converted the predictions back to their original dollar scale.\n",
    "\n",
    "**Final Result & Interpretation:**\n",
    "\n",
    "*   **Best Model:** Tuned `XGBoost Regressor`\n",
    "*   **Final Validation RMSE (on log scale):** 0.1259\n",
    "*   **Final Validation RMSE (in Dollars):** $26,363.22\n",
    "\n",
    "This value means that, on average, our model's price predictions are off by about $26,363. If the model predicts a house is worth $200,000, the actual price is likely to be somewhere in the range of $173,637 to $226,363. This is the metric you would report to a stakeholder or include in a final project summary because it's understandable and actionable.\n"
   ]
  }
 ],
 "metadata": {
  "kernelspec": {
   "display_name": "ml_prac_3_12",
   "language": "python",
   "name": "python3"
  },
  "language_info": {
   "codemirror_mode": {
    "name": "ipython",
    "version": 3
   },
   "file_extension": ".py",
   "mimetype": "text/x-python",
   "name": "python",
   "nbconvert_exporter": "python",
   "pygments_lexer": "ipython3",
   "version": "3.12.11"
  }
 },
 "nbformat": 4,
 "nbformat_minor": 5
}
